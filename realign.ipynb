{
 "cells": [
  {
   "cell_type": "code",
   "execution_count": 1,
   "id": "5c612ccd",
   "metadata": {},
   "outputs": [],
   "source": [
    "from Bio import Align\n",
    "from Bio.Seq import Seq\n",
    "from Bio.Align import substitution_matrices\n",
    "import pandas as pd\n",
    "import subprocess\n",
    "import shutil"
   ]
  },
  {
   "cell_type": "code",
   "execution_count": 2,
   "id": "d5ad16f0",
   "metadata": {},
   "outputs": [],
   "source": [
    "def format_alignment(arr, query_start, ori, ref_chr, ref_offset=0):\n",
    "    output = []\n",
    "    seq_len = 0 # Track sequence length\n",
    "\n",
    "    for i in range(0, len(arr), 4):  # Process each set of 3 rows\n",
    "        if i >= len(arr) or arr[i].strip() == \"\":\n",
    "            continue\n",
    "\n",
    "        first_row = arr[i]\n",
    "        seq = first_row.split()[2]  # Extract the sequence part\n",
    "        seq_len = len(seq)\n",
    "        end_number = query_start + seq_len - 1 if ori else query_start - seq_len + 1 # Calculate end number depending on orientation\n",
    "\n",
    "        first_row = f\"ref            {ref_chr}:{query_start} {seq} {end_number}\"\n",
    "\n",
    "        # Align second row\n",
    "        second_row = arr[i+1]\n",
    "        query_sequence_start = first_row.index(seq) - 1\n",
    "        pipes_only = ' ' * query_sequence_start + ''.join([ch if not ch.isdigit() else '' for ch in second_row.strip()])\n",
    "\n",
    "        # Change first number to 1-indexed\n",
    "        third_row = arr[i+2]\n",
    "        ref_start = ref_offset + 1\n",
    "        ref_seq = third_row.split()[2]  # Extract the sequence part from third row\n",
    "        ref_len = len(ref_seq)\n",
    "        ref_end = ref_start + ref_len - 1  # Corrected end number for ref\n",
    "\n",
    "        ref_row = f\"query          {\" \"*len(ref_chr)} {ref_start} {ref_seq} {ref_end}\"\n",
    "\n",
    "        # Since ref row number is always less than query, calculate extra space\n",
    "        space_diff = first_row.index(seq) - ref_row.index(ref_seq)\n",
    "        ref_row = \" \" * space_diff + ref_row.lstrip()\n",
    "\n",
    "        output.append(first_row)\n",
    "        output.append(pipes_only)\n",
    "        output.append(ref_row)\n",
    "        output.append('')\n",
    "\n",
    "        # Update query_start for the next set\n",
    "        query_start = query_start + seq_len if ori else query_start - seq_len\n",
    "\n",
    "        # Update the ref_offset for next set\n",
    "        ref_offset += ref_len\n",
    "\n",
    "    return \"\\n\".join(output)"
   ]
  },
  {
   "cell_type": "code",
   "execution_count": 3,
   "id": "846be501",
   "metadata": {},
   "outputs": [],
   "source": [
    "def extract_region(fasta_file, region):\n",
    "    \"\"\"\n",
    "    Extracts a specific region from a FASTA file using samtools.\n",
    "\n",
    "    :param fasta_file: Path to the indexed FASTA file.\n",
    "    :param region: Region in the format \"chr:start-end\" (e.g., \"chr18:180-280\").\n",
    "    :return: The sequence as a string.\n",
    "    \"\"\"\n",
    "    print(region)\n",
    "    result = subprocess.run(\n",
    "        [\"samtools\", \"faidx\", fasta_file, region],\n",
    "        stdout=subprocess.PIPE,\n",
    "        stderr=subprocess.PIPE,\n",
    "        text=True\n",
    "    )\n",
    "    if result.returncode == 0:\n",
    "        # The sequence will be in the second line, as the first line contains the header\n",
    "        return ''.join(result.stdout.splitlines()[1:])\n",
    "    else:\n",
    "        raise Exception(f\"Error: {result.stderr.strip()}\")\n",
    "    \n",
    "def generate_scaffolds(fastq1, fastq2, out_dir='out'):\n",
    "    \"\"\"\n",
    "    Extracts a specific region from a FASTA file using samtools.\n",
    "\n",
    "    :param fasta_file: Path to the indexed FASTA file.\n",
    "    :param region: Region in the format \"chr:start-end\" (e.g., \"chr18:180-280\").\n",
    "    :return: The sequence as a string.\n",
    "    \"\"\"\n",
    "\n",
    "    shutil.rmtree('./out')\n",
    "    result = subprocess.run(\n",
    "        [\"python\", \"./SPAdes-4.2.0-Linux/bin/spades.py\", \"--meta\", \"--pe1-1\", f\"./fastq/{fastq1}\", \"--pe1-2\", f\"./fastq/{fastq2}\", \"-o\", out_dir],\n",
    "        stdout=subprocess.PIPE,\n",
    "        stderr=subprocess.PIPE,\n",
    "        text=True\n",
    "    )\n",
    "    # print(result.stdout)\n",
    "    # print(result.stderr)\n",
    "    if result.returncode == 0:\n",
    "        # The sequence will be in the second line, as the first line contains the header\n",
    "        with open(f'./{out_dir}/scaffolds.fasta', 'r') as file:\n",
    "            file_content = file.read()  # Read the entire content of the file into a string\n",
    "            return [''.join(s.split('\\n')[1:]) for s in file_content.split('>')][1:]\n",
    "    else:\n",
    "        raise Exception(f\"{result.stderr}\")"
   ]
  },
  {
   "cell_type": "code",
   "execution_count": 4,
   "id": "4e55c74c",
   "metadata": {},
   "outputs": [
    {
     "name": "stdout",
     "output_type": "stream",
     "text": [
      "chr9:133606797-133607497\n",
      "chr9:134155174-134155874\n",
      "chr13:81087683-81088383\n",
      "chr13:81109064-81109764\n",
      "chr13:81469686-81470386\n",
      "chr13:90862424-90863124\n",
      "chr13:92473661-92474361\n",
      "chr13:94023058-94023758\n",
      "chr22:18952773-18953473\n",
      "chr22:20950224-20950924\n",
      "chr22:23049358-23050058\n",
      "chr22:23049561-23050261\n",
      "chr22:23632392-23633092\n",
      "chr13:108661061-108661761\n",
      "chr13:81469585-81470285\n",
      "chr13:90438357-90439057\n",
      "chr13:81469961-81470661\n",
      "chr13:90864457-90865157\n",
      "chr13:92475408-92476108\n",
      "chr13:108500623-108501323\n",
      "chr22:22935024-22935724\n",
      "chr22:20953492-20954192\n",
      "chr22:23107720-23108420\n",
      "chr22:23107509-23108209\n"
     ]
    }
   ],
   "source": [
    "df = pd.read_csv('./K562/K562_summaries.tsv', sep=\"\\t\")\n",
    "# aligner = Align.PairwiseAligner(mode=\"global\", open_gap_score = -10, extend_gap_score = -0.5, match_score = 1.0, mismatch_score = -1.0)\n",
    "aligner = Align.PairwiseAligner(mode=\"local\", open_gap_score = -10, extend_gap_score = -5, match_score=2, mismatch_score=-2)\n",
    "df['ref_seq_1'] = df['chrom1'].str.cat((df['pos1'] - 349).astype(str).str.cat((df['pos1'] + 351).astype(str), sep='-'), sep=':').apply(lambda x: extract_region('hg19/hg19full.fa', x))\n",
    "df['ref_seq_2'] = df['chrom2'].str.cat((df['pos2'] - 349).astype(str).str.cat((df['pos2'] + 351).astype(str), sep='-'), sep=':').apply(lambda x: extract_region('hg19/hg19full.fa', x))\n",
    "fastqs = ([('b_' + df['chrom1'] + '_' + (df['pos1']+1).astype(str) + '_' + df['chrom2'] + '_' + (df['pos2']+1).astype(str) + '_' + str(x) + '.fastq.gz').to_list() for x in range(1, 3)])\n",
    "df['scaffolds'] = [generate_scaffolds(fastqs[0][idx], fastqs[1][idx]) for idx, val in enumerate(fastqs[0])]\n",
    "\n"
   ]
  },
  {
   "cell_type": "code",
   "execution_count": 5,
   "id": "f1f5e625",
   "metadata": {},
   "outputs": [
    {
     "data": {
      "text/plain": [
       "0                                      [(132.0, 698.0)]\n",
       "1                         [(28.0, 48.0), (532.0, 12.0)]\n",
       "2                        [(22.0, 106.0), (702.0, 28.0)]\n",
       "3                        [(120.0, 18.0), (18.0, 226.0)]\n",
       "4                                      [(106.0, 106.0)]\n",
       "5            [(20.0, 22.0), (18.0, 20.0), (18.0, 20.0)]\n",
       "6           [(458.0, 30.0), (18.0, 26.0), (20.0, 24.0)]\n",
       "7           [(30.0, 26.0), (22.0, 250.0), (26.0, 32.0)]\n",
       "8            [(26.0, 28.0), (26.0, 22.0), (30.0, 26.0)]\n",
       "9                                        [(4.0, 294.0)]\n",
       "10         [(228.0, 532.0), (16.0, 20.0), (58.0, 76.0)]\n",
       "11    [(584.0, 124.0), (58.0, 76.0), (66.0, 64.0), (...\n",
       "dtype: object"
      ]
     },
     "execution_count": 5,
     "metadata": {},
     "output_type": "execute_result"
    }
   ],
   "source": [
    "scaffold_alignments = df.apply(lambda row: [(aligner.align(row['ref_seq_1'], scaffold)[0].score, aligner.align(row['ref_seq_2'], scaffold)[0].score) for scaffold in row['scaffolds']], axis=1)\n",
    "scaffold_alignments"
   ]
  },
  {
   "cell_type": "code",
   "execution_count": 6,
   "id": "e033ead3",
   "metadata": {},
   "outputs": [
    {
     "name": "stdout",
     "output_type": "stream",
     "text": [
      "breakpoint 0\n",
      "best_left_scaffold: 0 , score: (132.0, 698.0)\n",
      "best_right_scaffold: 0 , score: (132.0, 698.0)\n",
      "breakpoint 1\n",
      "best_left_scaffold: 1 , score: (532.0, 12.0)\n",
      "best_right_scaffold: 0 , score: (28.0, 48.0)\n",
      "breakpoint 2\n",
      "best_left_scaffold: 1 , score: (702.0, 28.0)\n",
      "best_right_scaffold: 0 , score: (22.0, 106.0)\n",
      "breakpoint 3\n",
      "best_left_scaffold: 0 , score: (120.0, 18.0)\n",
      "best_right_scaffold: 1 , score: (18.0, 226.0)\n",
      "breakpoint 4\n",
      "best_left_scaffold: 0 , score: (106.0, 106.0)\n",
      "best_right_scaffold: 0 , score: (106.0, 106.0)\n",
      "breakpoint 5\n",
      "best_left_scaffold: 0 , score: (20.0, 22.0)\n",
      "best_right_scaffold: 0 , score: (20.0, 22.0)\n",
      "breakpoint 6\n",
      "best_left_scaffold: 0 , score: (458.0, 30.0)\n",
      "best_right_scaffold: 0 , score: (458.0, 30.0)\n",
      "breakpoint 7\n",
      "best_left_scaffold: 0 , score: (30.0, 26.0)\n",
      "best_right_scaffold: 1 , score: (22.0, 250.0)\n",
      "breakpoint 8\n",
      "best_left_scaffold: 2 , score: (30.0, 26.0)\n",
      "best_right_scaffold: 0 , score: (26.0, 28.0)\n",
      "breakpoint 9\n",
      "best_left_scaffold: 0 , score: (4.0, 294.0)\n",
      "best_right_scaffold: 0 , score: (4.0, 294.0)\n",
      "breakpoint 10\n",
      "best_left_scaffold: 0 , score: (228.0, 532.0)\n",
      "best_right_scaffold: 0 , score: (228.0, 532.0)\n",
      "breakpoint 11\n",
      "best_left_scaffold: 0 , score: (584.0, 124.0)\n",
      "best_right_scaffold: 0 , score: (584.0, 124.0)\n"
     ]
    }
   ],
   "source": [
    "for idx, aligns in enumerate(scaffold_alignments):\n",
    "    print(\"breakpoint\", idx)\n",
    "    left_max = max(scaffold_alignments[idx], key=lambda x: x[0])\n",
    "    left_idx_max = scaffold_alignments[idx].index(left_max)\n",
    "    right_max = max(scaffold_alignments[idx], key=lambda x: x[1])\n",
    "    right_idx_max = scaffold_alignments[idx].index(right_max)\n",
    "    print(\"best_left_scaffold:\", left_idx_max, \", score:\", left_max)\n",
    "    print(\"best_right_scaffold:\", right_idx_max, \", score:\", right_max)\n"
   ]
  },
  {
   "cell_type": "code",
   "execution_count": null,
   "id": "e7321904",
   "metadata": {},
   "outputs": [],
   "source": []
  },
  {
   "cell_type": "code",
   "execution_count": 7,
   "id": "750ec0b6",
   "metadata": {},
   "outputs": [
    {
     "data": {
      "text/plain": [
       "[(584.0, 124.0), (58.0, 76.0), (66.0, 64.0), (58.0, 14.0)]"
      ]
     },
     "execution_count": 7,
     "metadata": {},
     "output_type": "execute_result"
    }
   ],
   "source": [
    "scaffold_alignments[11]"
   ]
  },
  {
   "cell_type": "code",
   "execution_count": 8,
   "id": "3a757c73",
   "metadata": {},
   "outputs": [
    {
     "data": {
      "text/plain": [
       "['TCCTTTGACATGTGTATATCCTCTTAATTGAAATGTCTCTTCAGGACTTTGGCCTATTTTCTGGATGGGCTATTGGATTTTTTAATGTAGAGTTTTGAGAGTTCTTTATGTATTCTAGATACCAATCCCTTTTTGGATATGTAAATGCAATATTTTCTTCCAGAAAAAGTTTGAAGATTTTAAAAATTGTTTTCTGCTTGCTTTCTCTTTTTCTTGTTCCTCTGTTTTCTTTTCTTTCATCCTTTTGTGCTACTGGAACATATTTTTAAAATTTCATCTTGACTTTGTAAATAATGTTTATCCCTTTGTGTAGGTTTCTTGGTGGTTATTCTGAGTATTACAATATTATTACAATATAAATATATAATTTATCACAGCCTAAACATTCAAGTTTTATGACTTTGAGTGAAGTATTTAGGACTTGCTTCTATTGAGGCTATTTTACCTTCCTGCTTTGTCTTGAAAATTATAATGGACTGATGCTTCCTGGTCCCTTCTCCTGCAGACTGAGATGACATCCTGTGCAGGGGTGATGTCAAGGGGGAGCAGGTTAAGGGAGAGGGGTCTTCTACTTTGCAAGTCCTCACCATGTGGGCGCCCACACACCTCTGCTGGTAGGACTTCCTAGTGATCAGTCCCATCCTAGTTCTGAGGGGCTGGCCCTGGCTAGCAAGTGGGGTGTGCTTGGTGAAGAAGCTGAATGTGGGCTTTGGAGCTGGTCAGATCGGAGCTGGCATCCAGCCTCTGAGAAGTCTCTATCCCCTGATCCCTGGGTTTTTGGGTTTCTCTATCTGTGGAGCCCACTGCCTAGGGCTAAGGTCAAGGATAGAAGAGACAGTGCCTGCTCAATGTAACGCCTGACACACAGTGGGTGCTTTACAAACCCAGGCGGAGCCCAGGACGGAGGGGGCGGGGCACTGTCACTCCCAGCTGGCCTTGAAGAGAGCCCACCCCCGGGAAATCACCTCCAGCAGCTTCACTGCTCACAAGGCGGTTCAGGGCTCTGGTCCCTGTCCTTTCCACGAGAGGGACGTGCAGCTCTGGCCCTGTTCATTGAGCACTTGAACTTGTCACCTCATTTCCAGGATAGCATTCCTACCCTCACAGAGCACCCTGGCCA',\n",
       " 'CCCTGGCTTCTGAAGCGCCCACCAGGGTTCTGGTGGCTTCCCCAGCTCGCGGCCCCTCCGGCCCTGCCGCTTCCCTACACAGCCCTTCCTCCTGCTCGTCATTTTCCGGAGCTCCGTGGGTGTTGGGCACAGACCCACGGCAGCCTCAGCATATGTGGAAGGCTCATGACGCATCCACGCGCGTGTGAAGTGCCGGTGTCTGCAGAGCAGAGGAAGGGGACATCTGTTTGAGTCATTGCCCAACAGCACAGGGCACTCCCATTGCTCTCAGGACCCTT']"
      ]
     },
     "execution_count": 8,
     "metadata": {},
     "output_type": "execute_result"
    }
   ],
   "source": [
    "df['scaffolds'][1]"
   ]
  },
  {
   "cell_type": "code",
   "execution_count": 9,
   "id": "4a02a4ba",
   "metadata": {},
   "outputs": [
    {
     "name": "stdout",
     "output_type": "stream",
     "text": [
      "TCCTTTGACATGTGTATATCCTCTTAATTGAAATGTCTCTTCAGGACTTTGGCCTATTTTCTGGATGGGCTATTGGATTTTTTAATGTAGAGTTTTGAGAGTTCTTTATGTATTCTAGATACCAATCCCTTTTTGGATATGTAAATGCAATATTTTCTTCCAGAAAAAGTTTGAAGATTTTAAAAATTGTTTTCTGCTTGCTTTCTCTTTTTCTTGTTCCTCTGTTTTCTTTTCTTTCATCCTTTTGTGCTACTGGAACATATTTTTAAAATTTCATCTTGACTTTGTAAATAATGTTTATCCCTTTGTGTAGGTTTCTTGGTGGTTATTCTGAGTATTACAATATTATTACAATATAAATATATAATTTATCACAGCCTAAACATTCAAGTTTTATGACTTTGAGTGAAGTATTTAGGACTTGCTTCTATTGAGGCTATTTTACCTTCCTGCTTTGTCTTGAAAATTATAATGGACTGATGCTTCCTGGTCCCTTCTCCTGCAGACTGAGATGACATCCTGTGCAGGGGTGATGTCAAGGGGGAGCAGGTTAAGGGAGAGGGGTCTTCTACTTTGCAAGTCCTCACCATGTGGGCGCCCACACACCTCTGCTGGTAGGACTTCCTAGTGATCAGTCCCATCCTAGTTCTGAGGGGCTGGCCCTGGCTAGCAAGTGGGGTGTGCTTGGTGAAGAAGCTGAATGTGGGCTTTGGAGCTGGTCAGATCGGAGCTGGCATCCAGCCTCTGAGAAGTCTCTATCCCCTGATCCCTGGGTTTTTGGGTTTCTCTATCTGTGGAGCCCACTGCCTAGGGCTAAGGTCAAGGATAGAAGAGACAGTGCCTGCTCAATGTAACGCCTGACACACAGTGGGTGCTTTACAAACCCAGGCGGAGCCCAGGACGGAGGGGGCGGGGCACTGTCACTCCCAGCTGGCCTTGAAGAGAGCCCACCCCCGGGAAATCACCTCCAGCAGCTTCACTGCTCACAAGGCGGTTCAGGGCTCTGGTCCCTGTCCTTTCCACGAGAGGGACGTGCAGCTCTGGCCCTGTTCATTGAGCACTTGAACTTGTCACCTCATTTCCAGGATAGCATTCCTACCCTCACAGAGCACCCTGGCCA \n",
      "\n",
      "CCCTGGCTTCTGAAGCGCCCACCAGGGTTCTGGTGGCTTCCCCAGCTCGCGGCCCCTCCGGCCCTGCCGCTTCCCTACACAGCCCTTCCTCCTGCTCGTCATTTTCCGGAGCTCCGTGGGTGTTGGGCACAGACCCACGGCAGCCTCAGCATATGTGGAAGGCTCATGACGCATCCACGCGCGTGTGAAGTGCCGGTGTCTGCAGAGCAGAGGAAGGGGACATCTGTTTGAGTCATTGCCCAACAGCACAGGGCACTCCCATTGCTCTCAGGACCCTT \n",
      "\n"
     ]
    }
   ],
   "source": [
    "for strn in df['scaffolds'][1]:\n",
    "    print(strn, \"\\n\")"
   ]
  },
  {
   "cell_type": "code",
   "execution_count": 10,
   "id": "73794ea5",
   "metadata": {},
   "outputs": [
    {
     "data": {
      "text/plain": [
       "'TGACCTTAGCCCTAGGCAGTGGGCTCCACAGATAGAGAAACCCAAAAACCCAGGGATCAGGGGATAGAGACTTCTCAGAGGCTGGATGCCAGCTCCGATCTGACCAGCTCCAAAGCCCACATTCAGCTTCTTCACCAAGCACACCCCACTTGCTAGCCAGGGCCAGCCCCTCAGAACTAGGATGGGACTGATCACTAGGAAGTCCTACCAGCAGAGGTGTGTGGGCGCCCACATGGTGAGGACTTGCAAAGTAGAAGACCCCTCTCCCTTAACCTGCTCCCCCTTGACATCACCCCTGCACAGGATGTCATCTCAGTCTGCAGGAGAAGGGACCAGGAAGCATCAGTCCATGGGCCTGTTTGCCGGCTTTGAGCTGGGGGGCAGCTCTGCCAGGCAGAGGGTGTGAATGGGCTCGGCTCCTGCATGCACTCCCTGCCCTGGCTTCTGAAGCGCCCACCAGGGTTCTGGTGGCTTCCCCAGCTCGCGGCCCCTCCGGCCCTGCCGCTTCCCTACACAGCCCTTCCTCCTGCTCGTCATTTTCCGGAGCTCCGTGGGTGTTGGGCACAGACCCACGGCAGCCTCAGCATATGTGGAAGGCTCATGACGCATCCACGCGCGTGTGAAGTGCCGGTGTCTGCAGAGCAGAGGAAGGGGACATCTGTTTGAGTCATTGCCCAACAGCACAGGGCACTCCCATTGCT'"
      ]
     },
     "execution_count": 10,
     "metadata": {},
     "output_type": "execute_result"
    }
   ],
   "source": [
    "df[\"ref_seq_1\"][1].upper()"
   ]
  },
  {
   "cell_type": "code",
   "execution_count": 11,
   "id": "77b2b75c",
   "metadata": {},
   "outputs": [
    {
     "data": {
      "text/plain": [
       "'CAATCCCTTTTTGGATATGTAAATGCAATATTTTCTTCCAGAAAAAGTTTGAAGATTTTAAAAATTGTTTTCTGCTTGCTTTCTCTTTTTCTTGTTCCTCTGTTTTCTTTTCTTTCATCCTTTTGTGCTACTGGAACATATTTTTAAAATTTCATCTTGACTTTGTAAATAATGTTTATCCCTTTGTGTAGGTTTCTTGGTGGTTATTCTGAGTATTACAATATTATTACAATATAAATATATAACTTATCACAGCCTAAACATTCAAGTTTTATGACTTTGAGTGAAGTATTTAGGACTTGCTTCTATTGAGGCTATTTTACCTTCCTGCTTTGTCTTGAAAATTATAATTTCTTAGACTGCGTTAAAATTTTTATTTCAATCATCACATACATTTTAGATCATGGTATAATTTCTGTTTTAATCACTACATATGATTTAGAAAACCTATGATGAGGATAATCTATGTATTTACCCACAGTTCTGCTCCTTCTGTTGCTGTTTTTTTTTTTCTTCCTGATGTTTCCAGACTTCTTCTTTCACCATTTCCTTTCCTTTTAAAGAATTTTCTGTAACCATTCTTTAAGGATAGATCTGCAATTGACAAATTATTTTACATTCTATTTGTCTGAAAATGTCTTTATTTCTACTTCATTCTTGCTGGATTGTTGTAGCTGATATACAATCCATGGTTGGTAGTT'"
      ]
     },
     "execution_count": 11,
     "metadata": {},
     "output_type": "execute_result"
    }
   ],
   "source": [
    "df[\"ref_seq_2\"][1].upper()"
   ]
  },
  {
   "cell_type": "code",
   "execution_count": 12,
   "id": "11efddfc",
   "metadata": {},
   "outputs": [
    {
     "data": {
      "text/plain": [
       "'TCCTTTGACATGTGTATATCCTCTTAATTGAAATGTCTCTTCAGGACTTTGGCCTATTTTCTGGATGGGCTATTGGATTTTTTAATGTAGAGTTTTGAGAGTTCTTTATGTATTCTAGATACCAATCCCTTTTTGGATATGTAAATGCAATATTTTCTTCCAGAAAAAGTTTGAAGATTTTAAAAATTGTTTTCTGCTTGCTTTCTCTTTTTCTTGTTCCTCTGTTTTCTTTTCTTTCATCCTTTTGTGCTACTGGAACATATTTTTAAAATTTCATCTTGACTTTGTAAATAATGTTTATCCCTTTGTGTAGGTTTCTTGGTGGTTATTCTGAGTATTACAATATTATTACAATATAAATATATAATTTATCACAGCCTAAACATTCAAGTTTTATGACTTTGAGTGAAGTATTTAGGACTTGCTTCTATTGAGGCTATTTTACCTTCCTGCTTTGTCTTGAAAATTATAATGGACTGATGCTTCCTGGTCCCTTCTCCTGCAGACTGAGATGACATCCTGTGCAGGGGTGATGTCAAGGGGGAGCAGGTTAAGGGAGAGGGGTCTTCTACTTTGCAAGTCCTCACCATGTGGGCGCCCACACACCTCTGCTGGTAGGACTTCCTAGTGATCAGTCCCATCCTAGTTCTGAGGGGCTGGCCCTGGCTAGCAAGTGGGGTGTGCTTGGTGAAGAAGCTGAATGTGGGCTTTGGAGCTGGTCAGATCGGAGCTGGCATCCAGCCTCTGAGAAGTCTCTATCCCCTGATCCCTGGGTTTTTGGGTTTCTCTATCTGTGGAGCCCACTGCCTAGGGCTAAGGTCAAGGATAGAAGAGACAGTGCCTGCTCAATGTAACGCCTGACACACAGTGGGTGCTTTACAAACCCAGGCGGAGCCCAGGACGGAGGGGGCGGGGCACTGTCACTCCCAGCTGGCCTTGAAGAGAGCCCACCCCCGGGAAATCACCTCCAGCAGCTTCACTGCTCACAAGGCGGTTCAGGGCTCTGGTCCCTGTCCTTTCCACGAGAGGGACGTGCAGCTCTGGCCCTGTTCATTGAGCACTTGAACTTGTCACCTCATTTCCAGGATAGCATTCCTACCCTCACAGAGCACCCTGGCCA'"
      ]
     },
     "execution_count": 12,
     "metadata": {},
     "output_type": "execute_result"
    }
   ],
   "source": [
    "df[\"scaffolds\"][1][0]"
   ]
  },
  {
   "cell_type": "code",
   "execution_count": 13,
   "id": "3400d16b",
   "metadata": {},
   "outputs": [],
   "source": [
    "def rev_comp(dna):\n",
    "    complement = {\"A\": \"T\", \"T\": \"A\", \"C\": \"G\", \"G\": \"C\", \"N\": \"N\"}\n",
    "    reversed_dna = dna[::-1]\n",
    "    return \"\".join(complement[base] for base in reversed_dna)"
   ]
  },
  {
   "cell_type": "code",
   "execution_count": 14,
   "id": "992638f8",
   "metadata": {},
   "outputs": [
    {
     "name": "stdout",
     "output_type": "stream",
     "text": [
      "target           50 CCACCTGGCAGTGACAGCTAAATTGGGAGCTGCTGTTAACACCAGGAGCCCAGCAGGCAG\n",
      "                  0 ||||||||||||||||||||||||||||||||||||||||||||||||||||||||||||\n",
      "query             0 CCACCTGGCAGTGACAGCTAAATTGGGAGCTGCTGTTAACACCAGGAGCCCAGCAGGCAG\n",
      "\n",
      "target          110 TCAAACCTGGGTTGGGGGGGAGGGGCACCTGTTGAAAGCACCCACGAGCTCCCAGTGGAG\n",
      "                 60 ||||||||||||||||||||||||||||||||||||||||||||||||||||||||||||\n",
      "query            60 TCAAACCTGGGTTGGGGGGGAGGGGCACCTGTTGAAAGCACCCACGAGCTCCCAGTGGAG\n",
      "\n",
      "target          170 CAGGGAAGGCAGGGAAGGCATGGCGATAGCTGTCAGCAGGAGTGGGTGGGGAGTGGAAGG\n",
      "                120 ||||||||||||||||||||||||||||||||||||||||||||||||||||||||||||\n",
      "query           120 CAGGGAAGGCAGGGAAGGCATGGCGATAGCTGTCAGCAGGAGTGGGTGGGGAGTGGAAGG\n",
      "\n",
      "target          230 CAGGGTGGACCGCCAAACCCACCTTGGGGCCACAGTGAGATGGTCCCTAGGATGCCTTGG\n",
      "                180 ||||||||||||||||||||||||||||||||||||||||||||||||||||||||||||\n",
      "query           180 CAGGGTGGACCGCCAAACCCACCTTGGGGCCACAGTGAGATGGTCCCTAGGATGCCTTGG\n",
      "\n",
      "target          290 CTGGCTAGTGCCCAGCCTTGCTCTTGTAGGAGCTCCCTGGGTCCCTGGGCACCCCAC 347\n",
      "                240 ||||||||||||||||||||||||||||||||||||||||||||||||||||||||| 297\n",
      "query           240 CTGGCTAGTGCCCAGCCTTGCTCTTGTAGGAGCTCCCTGGGTCCCTGGGCACCCCAC 297\n",
      "\n"
     ]
    }
   ],
   "source": [
    "# breakpoint 8\n",
    "# best_left_scaffold: 2 , score: (30.0, 26.0)\n",
    "# best_right_scaffold: 0 , score: (26.0, 28.0)\n",
    "alignments = aligner.align(df['scaffolds'][8][1], rev_comp(df[\"ref_seq_1\"][8].upper()))\n",
    "for aln in alignments:\n",
    "    print(aln)"
   ]
  },
  {
   "cell_type": "code",
   "execution_count": 15,
   "id": "4f32ac8a",
   "metadata": {},
   "outputs": [
    {
     "name": "stdout",
     "output_type": "stream",
     "text": [
      "target          127 GTTACCTCCTTGCTGTGACCTCACATGGTCTTTCCTCCGCCTGCTCATCTCTGGTGTCTG\n",
      "                  0 ||||||||||||||||||||||||||||||||||||||||||||||||||||||||||||\n",
      "query             0 GTTACCTCCTTGCTGTGACCTCACATGGTCTTTCCTCCGCCTGCTCATCTCTGGTGTCTG\n",
      "\n",
      "target          187 ATTTCTGTGTGTGCAAATTTTCTCTTCTAAGGAGAACACCAGTCAGACTGGATAAGAACC\n",
      "                 60 ||||||||||||||||||||||||||||||||||||||||||||||||||||||||||||\n",
      "query            60 ATTTCTGTGTGTGCAAATTTTCTCTTCTAAGGAGAACACCAGTCAGACTGGATAAGAACC\n",
      "\n",
      "target          247 CACCCTCATGACCTCATTTTCACTTAATCACCTCCATAAAGACCCTGTCTCCAAATTTAG\n",
      "                120 ||||||||||||||||||||||||||||||||||||||||||||||||||||||||||||\n",
      "query           120 CACCCTCATGACCTCATTTTCACTTAATCACCTCCATAAAGACCCTGTCTCCAAATTTAG\n",
      "\n",
      "target          307 TCACACACTGTGATTAAGGCTTCATTGCATGAATCTTGAGGGACACAATTTAGCCAATAA\n",
      "                180 ||||||||||||||||||||||||||||||||||||||||||||||||||||||||||||\n",
      "query           180 TCACACACTGTGATTAAGGCTTCATTGCATGAATCTTGAGGGACACAATTTAGCCAATAA\n",
      "\n",
      "target          367 GCCTCCACCCTGTGGACTCCAAAGCTTATTTCTTTCTCACTTGTAAAACACATTCACCCC\n",
      "                240 ||||||||||||||||||||||||||||||||||||||||||||||||||||||||||||\n",
      "query           240 GCCTCCACCCTGTGGACTCCAAAGCTTATTTCTTTCTCACTTGTAAAACACATTCACCCC\n",
      "\n",
      "target          427 ATCCCAGTAGCCCAAATCATTAACTAACTCAGCACAAACTCTGAGACCCAAATACCTCCA\n",
      "                300 ||||||||||||||||||||||||||||||||||||||||||||||||||||||||||||\n",
      "query           300 ATCCCAGTAGCCCAAATCATTAACTAACTCAGCACAAACTCTGAGACCCAAATACCTCCA\n",
      "\n",
      "target          487 AATAAAGTGTGGATGAGACTCCGGGTGTGATTCTTCCTGAGGCATTAAAAAATAACAGCT\n",
      "                360 ||||||||||||||||||||||||||||||||||||||||||||||||||||||||||||\n",
      "query           360 AATAAAGTGTGGATGAGACTCCGGGTGTGATTCTTCCTGAGGCATTAAAAAATAACAGCT\n",
      "\n",
      "target          547 TTAGGAAAATTTTCCTCCTCTTTCCTGTCATCTGGGTGTTCAAAAAAGTCAAAGCTCCCA\n",
      "                420 ||||||||||||||||||||||||||||||||||||||||||||||||||||||||||||\n",
      "query           420 TTAGGAAAATTTTCCTCCTCTTTCCTGTCATCTGGGTGTTCAAAAAAGTCAAAGCTCCCA\n",
      "\n",
      "target          607 CTTTATTTGCTAAGACTGAAAGAGGCTTTGCTCCTGTTTCCTTCTTTCTCCCTTCCTGAG\n",
      "                480 |||||||||||||||.||||||||||||||||||||||||||||||||||||||||||||\n",
      "query           480 CTTTATTTGCTAAGATTGAAAGAGGCTTTGCTCCTGTTTCCTTCTTTCTCCCTTCCTGAG\n",
      "\n",
      "target          667 ACTGAGGGGCAGTCACAGCTGCTGGCTGGTGAGCACTTATGGAAAACGCAAATGGGTCAG\n",
      "                540 |||||||||||||||||||||||||||||.||||||||||||||||||||||||||||||\n",
      "query           540 ACTGAGGGGCAGTCACAGCTGCTGGCTGGCGAGCACTTATGGAAAACGCAAATGGGTCAG\n",
      "\n",
      "target          727 TTGAAAAGATTGGCAGTTGGGCCAAGGTCCCCACAGAGAAGGGATCCCATACCACTTGCT\n",
      "                600 ||||||||||||||||||||||||||||||||||||||||||||||||||||||||||||\n",
      "query           600 TTGAAAAGATTGGCAGTTGGGCCAAGGTCCCCACAGAGAAGGGATCCCATACCACTTGCT\n",
      "\n",
      "target          787 GCTGCGTGCACGTCCAAGAGTCTCCTTTCCCCAAAGAGACT 828\n",
      "                660 ||||||||||||||||||||||||||||||||||||||||| 701\n",
      "query           660 GCTGCGTGCACGTCCAAGAGTCTCCTTTCCCCAAAGAGACT 701\n",
      "\n"
     ]
    }
   ],
   "source": [
    "# breakpoint 8\n",
    "# best_left_scaffold: 2 , score: (30.0, 26.0)\n",
    "# best_right_scaffold: 0 , score: (26.0, 28.0)\n",
    "alignments = aligner.align(df['scaffolds'][8][0], rev_comp(df[\"ref_seq_2\"][8].upper()))\n",
    "for aln in alignments:\n",
    "    print(aln)"
   ]
  },
  {
   "cell_type": "code",
   "execution_count": 16,
   "id": "32555b4f",
   "metadata": {},
   "outputs": [],
   "source": [
    "# Recall, df is # breakpoint rows. Each row contains x scaffolds.\n",
    "# We compute a new column which is a list of the highest score PairwiseAlignment objects for each of x scaffolds.\n",
    "# We take a max of the scores between non-rev comp and rev comp of reference for each scaffold to resolve orientation issues.\n",
    "df[\"alignments_left\"] = df.apply(\n",
    "    lambda row: [\n",
    "        max(\n",
    "            [aligner.align(scaffold, row[\"ref_seq_1\"].upper())[0],\n",
    "             aligner.align(scaffold, rev_comp(row[\"ref_seq_1\"].upper()))[0]],\n",
    "            key=lambda aln: aln.score\n",
    "        )\n",
    "        for scaffold in row[\"scaffolds\"]\n",
    "    ],\n",
    "    axis=1\n",
    ")\n",
    "\n",
    "df[\"alignments_right\"] = df.apply(\n",
    "    lambda row: [\n",
    "        max(\n",
    "            [aligner.align(scaffold, row[\"ref_seq_2\"].upper())[0],\n",
    "             aligner.align(scaffold, rev_comp(row[\"ref_seq_2\"].upper()))[0]],\n",
    "            key=lambda aln: aln.score\n",
    "        )\n",
    "        for scaffold in row[\"scaffolds\"]\n",
    "    ],\n",
    "    axis=1\n",
    ")"
   ]
  },
  {
   "cell_type": "code",
   "execution_count": 17,
   "id": "fe5aa64d",
   "metadata": {},
   "outputs": [],
   "source": [
    "# Reformats formatted PairwiseAlignment lists by adding a custom reference chrom and pos, accounting for orientation\n",
    "def format_alignment(arr, ori, ref_chr, ref_start=0, query_start=0):\n",
    "    output = []\n",
    "\n",
    "    for i in range(0, len(arr), 4):\n",
    "        if i + 2 >= len(arr) or not arr[i].strip():\n",
    "            continue\n",
    "\n",
    "        # --- parse target ---\n",
    "        _, tgt_start, seq, *rest_t = arr[i].split()\n",
    "        tgt_start = int(tgt_start)\n",
    "        if(i==0):\n",
    "            query_start = query_start + tgt_start + 1\n",
    "        seq_len = len(seq)\n",
    "        end_num = query_start + seq_len - 1\n",
    "\n",
    "        # fixed label + start\n",
    "        prefix = f\"{'target':<15}{query_start} \"\n",
    "        prefix_len = len(prefix)\n",
    "\n",
    "        # --- parse ref ---\n",
    "        _, ref_offset, ref_seq, *rest_r = arr[i + 2].split()\n",
    "        ref_len   = len(ref_seq)\n",
    "        ref_offset = int(ref_offset)\n",
    "        if i==0:\n",
    "            ref_start = ref_start + ref_offset - 350 if ori else ref_start + 350 - ref_offset\n",
    "        ref_start = ref_start + 1\n",
    "\n",
    "        ref_end   = ref_start + ref_len - 1 if ori else ref_start - ref_len + 1\n",
    "        ref_label = f\"{'ref':<15}{ref_chr}:{ref_start} \"\n",
    "        ref_row_str = f\"{ref_label}{ref_seq} {ref_end}\"\n",
    "\n",
    "        # where the ref bases begin\n",
    "        ref_seq_col = ref_row_str.index(ref_seq)\n",
    "\n",
    "        # compute how much to shift the target seq so seq cols match\n",
    "        pad_spaces = ref_seq_col - prefix_len\n",
    "        if pad_spaces < 0:\n",
    "            pad_spaces = 0\n",
    "\n",
    "        # build target line (label stays flush left)\n",
    "        first_row_str = prefix + \" \" * pad_spaces + seq + f\" {end_num}\"\n",
    "\n",
    "        # --- build pipes ---\n",
    "        raw_pipes   = arr[i + 1].strip()\n",
    "        clean_pipes = ''.join(ch for ch in raw_pipes if not ch.isdigit())\n",
    "        # reuse exact same pad that moved the target seq\n",
    "        pipe_line = \" \" * (prefix_len + pad_spaces - 1) + clean_pipes\n",
    "\n",
    "        # --- collect ---\n",
    "        output.append(first_row_str)\n",
    "        output.append(pipe_line)\n",
    "        output.append(ref_row_str)\n",
    "        output.append(\"\")\n",
    "\n",
    "        # advance\n",
    "        query_start += seq_len\n",
    "        ref_start   += ref_len - 1 if ori else -ref_len + 1\n",
    "\n",
    "    return \"\\n\".join(output)\n"
   ]
  },
  {
   "cell_type": "code",
   "execution_count": 18,
   "id": "eb5f4e24",
   "metadata": {},
   "outputs": [
    {
     "name": "stdout",
     "output_type": "stream",
     "text": [
      "target         492            GAGTGGGTTTTATCAGCTTCCATACCCAAACAGAAATACCCTTAAGGATTTTCTTCTCTG 551\n",
      "                              ||||||||||||||||||||||||||||||||||||||||||||||||||||||||||||\n",
      "ref            chr9:133607147 GAGTGGGTTTTATCAGCTTCCATACCCAAACAGAAATACCCTTAAGGATTTTCTTCTCTG 133607088\n",
      "\n",
      "target         552            ATTGCACTAAATCTATAGGTTTCTTTGATCCTAGAAATGAATAATAGAATATAAAGAATT 611\n",
      "                              ||||||||||||||||||||||||||||||||||||||||||||||||||||||||||||\n",
      "ref            chr9:133607089 ATTGCACTAAATCTATAGGTTTCTTTGATCCTAGAAATGAATAATAGAATATAAAGAATT 133607030\n",
      "\n",
      "target         612            CTTATTGATGAAAGAAAGCTATTTCAGGAAACTTTTTTTTTTCTGTTAATGATAAAGGCT 671\n",
      "                              ||||||||||||||||||||||||||||||||||||||||||||||||||||||||||||\n",
      "ref            chr9:133607031 CTTATTGATGAAAGAAAGCTATTTCAGGAAACTTTTTTTTTTCTGTTAATGATAAAGGCT 133606972\n",
      "\n",
      "target         672            AAATGATTCCTGTCAATTGTTTCAAATTTTCAACTTTCAAAATACCTGCTGCTTCTTTCC 731\n",
      "                              ||||||||||||||||||||||||||||||||||||||||||||||||||||||||||||\n",
      "ref            chr9:133606973 AAATGATTCCTGTCAATTGTTTCAAATTTTCAACTTTCAAAATACCTGCTGCTTCTTTCC 133606914\n",
      "\n",
      "target         732            AATTCACCTTTCTCTATTCTTTTTTTTTTTCCAATTGTATTTTTCTTTGACACTCAGTAC 791\n",
      "                              ||||||||||||||||||||||||||||||||||||||||||||||||||||||||||||\n",
      "ref            chr9:133606915 AATTCACCTTTCTCTATTCTTTTTTTTTTTCCAATTGTATTTTTCTTTGACACTCAGTAC 133606856\n",
      "\n",
      "target         792            TTGTCCCTTGATAGTGGAGACCATGTTTATACATTTTCATGGATCGAACAG 842\n",
      "                              ||||||||||||||||||||||||||||||||||||||||||||||||||| \n",
      "ref            chr9:133606857 TTGTCCCTTGATAGTGGAGACCATGTTTATACATTTTCATGGATCGAACAG 133606807\n",
      "\n",
      "target          491 GAGTGGGTTTTATCAGCTTCCATACCCAAACAGAAATACCCTTAAGGATTTTCTTCTCTG\n",
      "                  0 ||||||||||||||||||||||||||||||||||||||||||||||||||||||||||||\n",
      "query           350 GAGTGGGTTTTATCAGCTTCCATACCCAAACAGAAATACCCTTAAGGATTTTCTTCTCTG\n",
      "\n",
      "target          551 ATTGCACTAAATCTATAGGTTTCTTTGATCCTAGAAATGAATAATAGAATATAAAGAATT\n",
      "                 60 ||||||||||||||||||||||||||||||||||||||||||||||||||||||||||||\n",
      "query           410 ATTGCACTAAATCTATAGGTTTCTTTGATCCTAGAAATGAATAATAGAATATAAAGAATT\n",
      "\n",
      "target          611 CTTATTGATGAAAGAAAGCTATTTCAGGAAACTTTTTTTTTTCTGTTAATGATAAAGGCT\n",
      "                120 ||||||||||||||||||||||||||||||||||||||||||||||||||||||||||||\n",
      "query           470 CTTATTGATGAAAGAAAGCTATTTCAGGAAACTTTTTTTTTTCTGTTAATGATAAAGGCT\n",
      "\n",
      "target          671 AAATGATTCCTGTCAATTGTTTCAAATTTTCAACTTTCAAAATACCTGCTGCTTCTTTCC\n",
      "                180 ||||||||||||||||||||||||||||||||||||||||||||||||||||||||||||\n",
      "query           530 AAATGATTCCTGTCAATTGTTTCAAATTTTCAACTTTCAAAATACCTGCTGCTTCTTTCC\n",
      "\n",
      "target          731 AATTCACCTTTCTCTATTCTTTTTTTTTTTCCAATTGTATTTTTCTTTGACACTCAGTAC\n",
      "                240 ||||||||||||||||||||||||||||||||||||||||||||||||||||||||||||\n",
      "query           590 AATTCACCTTTCTCTATTCTTTTTTTTTTTCCAATTGTATTTTTCTTTGACACTCAGTAC\n",
      "\n",
      "target          791 TTGTCCCTTGATAGTGGAGACCATGTTTATACATTTTCATGGATCGAACAG 842\n",
      "                300 ||||||||||||||||||||||||||||||||||||||||||||||||||| 351\n",
      "query           650 TTGTCCCTTGATAGTGGAGACCATGTTTATACATTTTCATGGATCGAACAG 701\n",
      "\n",
      "target         146            CTGGCTTACCTTGTGCCAGGCAGATGGCAGCCACACAGTGTCCACCGGATGGTTGATTTT 205\n",
      "                              ||||||||||||||||||||||||||||||||||||||||||||||||||||||||||||\n",
      "ref            chr22:23632392 CTGGCTTACCTTGTGCCAGGCAGATGGCAGCCACACAGTGTCCACCGGATGGTTGATTTT 23632451\n",
      "\n",
      "target         206            GAAGCAGAGTTAGCTTGTCACCTGCCTCCCTTTCCCGGGACAACAGAAGCTGACCTCTTT 265\n",
      "                              ||||||||||||||||||||||||||||||||||||||||||||||||||||||||||||\n",
      "ref            chr22:23632452 GAAGCAGAGTTAGCTTGTCACCTGCCTCCCTTTCCCGGGACAACAGAAGCTGACCTCTTT 23632511\n",
      "\n",
      "target         266            GATCTCTTGCGCAGATGATGAGTCTCCGGGGCTCTATGGGTTTCTGAATGTCATCGTCCA 325\n",
      "                              ||||||||||||||||||||||||||||||||||||||||||||||||||||||||||||\n",
      "ref            chr22:23632512 GATCTCTTGCGCAGATGATGAGTCTCCGGGGCTCTATGGGTTTCTGAATGTCATCGTCCA 23632571\n",
      "\n",
      "target         326            CTCAGCCACTGGATTTAAGCAGAGTTCAAGTAAGTACTGGTTTGGGGAGGAGGGTTGCAG 385\n",
      "                              ||||||||||||||||||||||||||||||||||||||||||||||||||||||||||||\n",
      "ref            chr22:23632572 CTCAGCCACTGGATTTAAGCAGAGTTCAAGTAAGTACTGGTTTGGGGAGGAGGGTTGCAG 23632631\n",
      "\n",
      "target         386            CGGCCGAGCCAGGGTCTCCACCCAGGAAGGACTAATCGGGCAGGGTGTGGGGAAACAGGG 445\n",
      "                              |||||||||||||||||||||||||||||||||.||||||||||||||||||||||||||\n",
      "ref            chr22:23632632 CGGCCGAGCCAGGGTCTCCACCCAGGAAGGACTCATCGGGCAGGGTGTGGGGAAACAGGG 23632691\n",
      "\n",
      "target         446            AGGTTGTTCAGATGACCACGGGACACCTTTGACCCTGGCCGCTGTGGAGTG 496\n",
      "                              ||||||||||||||||||||||||||||||||||||||||||||||||||| \n",
      "ref            chr22:23632692 AGGTTGTTCAGATGACCACGGGACACCTTTGACCCTGGCCGCTGTGGAGTG 23632742\n",
      "\n",
      "target          145 CTGGCTTACCTTGTGCCAGGCAGATGGCAGCCACACAGTGTCCACCGGATGGTTGATTTT\n",
      "                  0 ||||||||||||||||||||||||||||||||||||||||||||||||||||||||||||\n",
      "query             0 CTGGCTTACCTTGTGCCAGGCAGATGGCAGCCACACAGTGTCCACCGGATGGTTGATTTT\n",
      "\n",
      "target          205 GAAGCAGAGTTAGCTTGTCACCTGCCTCCCTTTCCCGGGACAACAGAAGCTGACCTCTTT\n",
      "                 60 ||||||||||||||||||||||||||||||||||||||||||||||||||||||||||||\n",
      "query            60 GAAGCAGAGTTAGCTTGTCACCTGCCTCCCTTTCCCGGGACAACAGAAGCTGACCTCTTT\n",
      "\n",
      "target          265 GATCTCTTGCGCAGATGATGAGTCTCCGGGGCTCTATGGGTTTCTGAATGTCATCGTCCA\n",
      "                120 ||||||||||||||||||||||||||||||||||||||||||||||||||||||||||||\n",
      "query           120 GATCTCTTGCGCAGATGATGAGTCTCCGGGGCTCTATGGGTTTCTGAATGTCATCGTCCA\n",
      "\n",
      "target          325 CTCAGCCACTGGATTTAAGCAGAGTTCAAGTAAGTACTGGTTTGGGGAGGAGGGTTGCAG\n",
      "                180 ||||||||||||||||||||||||||||||||||||||||||||||||||||||||||||\n",
      "query           180 CTCAGCCACTGGATTTAAGCAGAGTTCAAGTAAGTACTGGTTTGGGGAGGAGGGTTGCAG\n",
      "\n",
      "target          385 CGGCCGAGCCAGGGTCTCCACCCAGGAAGGACTAATCGGGCAGGGTGTGGGGAAACAGGG\n",
      "                240 |||||||||||||||||||||||||||||||||.||||||||||||||||||||||||||\n",
      "query           240 CGGCCGAGCCAGGGTCTCCACCCAGGAAGGACTCATCGGGCAGGGTGTGGGGAAACAGGG\n",
      "\n",
      "target          445 AGGTTGTTCAGATGACCACGGGACACCTTTGACCCTGGCCGCTGTGGAGTG 496\n",
      "                300 ||||||||||||||||||||||||||||||||||||||||||||||||||| 351\n",
      "query           300 AGGTTGTTCAGATGACCACGGGACACCTTTGACCCTGGCCGCTGTGGAGTG 351\n",
      "\n"
     ]
    }
   ],
   "source": [
    "# format function turns PairwiseAlignment object into string which can be made into list\n",
    "# 2nd breakpoint, first scaffold, assuming left side alignment is chrom1 and pos1\n",
    "print(format_alignment(format(df['alignments_left'][0][0]).split('\\n'), False, df['chrom1'][0], df['pos1'][0]))\n",
    "print(df['alignments_left'][0][0])\n",
    "print(format_alignment(format(df['alignments_right'][0][0]).split('\\n'), True, df['chrom2'][0], df['pos2'][0]))\n",
    "print(df['alignments_right'][0][0])"
   ]
  },
  {
   "cell_type": "code",
   "execution_count": 19,
   "id": "147d9829",
   "metadata": {},
   "outputs": [
    {
     "name": "stdout",
     "output_type": "stream",
     "text": [
      "target         1              GTCCATTCCACCTGAATGCACACTGATTCTGATCCTATTCTCTGAGGGAAATAGACAAGA 60\n",
      "                              ||||||||||||||||||||||||||||||||||||||||||||||||||||||||||||\n",
      "ref            chr22:23049722 GTCCATTCCACCTGAATGCACACTGATTCTGATCCTATTCTCTGAGGGAAATAGACAAGA 23049781\n",
      "\n",
      "target         61             CCTCAGTATCTGCTTCAGTGGTGTAACTGTGCACCTGCAGCCATAGCATTCTGTTCCCAG 120\n",
      "                              ||||||||||||||||||||..||||||||||||||||||||||||||||||||||||||\n",
      "ref            chr22:23049782 CCTCAGTATCTGCTTCAGTGAGGTAACTGTGCACCTGCAGCCATAGCATTCTGTTCCCAG 23049841\n",
      "\n",
      "target         121            AGATCCCCATCTGGCACAGATATTGCTAATGCCACTATTGCCCATCTGGGTCTGTACAAA 180\n",
      "                              ||||||||||||||||||||||||||||||||||||||||||||||||||||||||||||\n",
      "ref            chr22:23049842 AGATCCCCATCTGGCACAGATATTGCTAATGCCACTATTGCCCATCTGGGTCTGTACAAA 23049901\n",
      "\n",
      "target         181            TCCAAATTCATCTTCCAGGATCATTCAACTATTGTAGAGATCAGTCCAGTAAACTGAAAA 240\n",
      "                              ||||||||||||||||||||||||||||||||||||||||||||||||||||||||||||\n",
      "ref            chr22:23049902 TCCAAATTCATCTTCCAGGATCATTCAACTATTGTAGAGATCAGTCCAGTAAACTGAAAA 23049961\n",
      "\n",
      "target         241            CAAAACCCCAGAAGTAATCACACGTACTGCGGGAGAGGAGAGAGCTGTCTCAGAGGGCAC 300\n",
      "                              ||||||||||||||||||||||||||||||||||||||||||||||||||||||||||||\n",
      "ref            chr22:23049962 CAAAACCCCAGAAGTAATCACACGTACTGCGGGAGAGGAGAGAGCTGTCTCAGAGGGCAC 23050021\n",
      "\n",
      "target         301            AGTCTTGTTGAAATTCCTCTGCTTCTTGGGAAGAAAC 337\n",
      "                              |||||||||||||||||||||||.||||||||||||| \n",
      "ref            chr22:23050022 AGTCTTGTTGAAATTCCTCTGCTCCTTGGGAAGAAAC 23050058\n",
      "\n",
      "target         1              GTCCATTCCACCTGAATGCACACTGATTCTGATCCTATTCTCTGAGGGAAATAGACAAGA 60\n",
      "                              |||||||||||.|||||||||||||||||||||||||||||||||||..|||||||||||\n",
      "ref            chr22:23108236 GTCCATTCCACGTGAATGCACACTGATTCTGATCCTATTCTCTGAGGACAATAGACAAGA 23108177\n",
      "\n",
      "target         61             CCTCAGTATCTGCTTCAGTGGTGTAACTGTGCACCTGCAGCCATAGCATTCTGTTCCCAG 120\n",
      "                              ||||||||||||||||||||||.||||||||||||||||||||||||||||||||||..|\n",
      "ref            chr22:23108178 CCTCAGTATCTGCTTCAGTGGTTTAACTGTGCACCTGCAGCCATAGCATTCTGTTCCAGG 23108119\n",
      "\n",
      "target         121            AGATCCCCATCTGGCACAGATATTGCTAATGCCACTATTGCCCATCTGGGTCTGTACAAA 180\n",
      "                              ||||||||||||||||||||||||||||||||||||||||||||||||||||||||||||\n",
      "ref            chr22:23108120 AGATCCCCATCTGGCACAGATATTGCTAATGCCACTATTGCCCATCTGGGTCTGTACAAA 23108061\n",
      "\n",
      "target         181            TCCAAATTCATCTTCCAGGATCATTCAACTATTGTAGAGATCAGTCCAGTAAACTGAAA- 240\n",
      "                              |||||||||||||||||||||||||||||||||||||||||||||||||||||||||||-\n",
      "ref            chr22:23108062 TCCAAATTCATCTTCCAGGATCATTCAACTATTGTAGAGATCAGTCCAGTAAACTGAAAG 23108003\n",
      "\n",
      "target         241            ACAAAACCCCAGAAGTAATCACACGTACTGCGGGAGAGGAGAGAGCTGTCTCAGAGGGCA 300\n",
      "                              ..|..||||||||||||||||||||||||||.|||||||||||||||||.|||||||.||\n",
      "ref            chr22:23108004 TGAGGACCCCAGAAGTAATCACACGTACTGCAGGAGAGGAGAGAGCTGTTTCAGAGGCCA 23107945\n",
      "\n",
      "target         301            CAGTCTTGTTGAAATTCCTCTGCTTCTTGGGAAGAAACAGCCCAGAAAAGGCTCCAGGGG 360\n",
      "                              ||.||.||||||||||||||||||.|||||||||||||||||||||||||||.|||||||\n",
      "ref            chr22:23107946 CAATCCTGTTGAAATTCCTCTGCTCCTTGGGAAGAAACAGCCCAGAAAAGGCCCCAGGGG 23107887\n",
      "\n",
      "target         361            CTGCGTCTCATCTGGGTTCCTGGATGAGGCACACCCCCTACTGCACTGAGATTCCACAGA 420\n",
      "                              ||||||||||||||||||||||||||||||||||||||||||||||||||||||||||||\n",
      "ref            chr22:23107888 CTGCGTCTCATCTGGGTTCCTGGATGAGGCACACCCCCTACTGCACTGAGATTCCACAGA 23107829\n",
      "\n",
      "target         421            AGCTGGGGGTGAAGTGCAAACACCGTCTTTGGTTCATCCTTGGGATTTTCTTTTTATCAC 480\n",
      "                              ||||||||||||||||||||||||||||||||||||||||||||||||||||||||||||\n",
      "ref            chr22:23107830 AGCTGGGGGTGAAGTGCAAACACCGTCTTTGGTTCATCCTTGGGATTTTCTTTTTATCAC 23107771\n",
      "\n",
      "target         481            ACACTCGTCATTTTGTCCACAATGCCCAAAGTTTCTA 517\n",
      "                              ||||||||||||||||||||||||.|||||||||||| \n",
      "ref            chr22:23107772 ACACTCGTCATTTTGTCCACAATGTCCAAAGTTTCTA 23107736\n",
      "\n"
     ]
    }
   ],
   "source": [
    "# format function turns PairwiseAlignment object into string which can be made into list\n",
    "# 2nd breakpoint, first scaffold, assuming left side alignment is chrom1 and pos1\n",
    "print(format_alignment(format(df['alignments_left'][10][0]).split('\\n'), True, df['chrom1'][10], df['pos1'][10]))\n",
    "\n",
    "print(format_alignment(format(df['alignments_right'][10][0]).split('\\n'), False, df['chrom2'][10], df['pos2'][10]))"
   ]
  },
  {
   "cell_type": "code",
   "execution_count": 20,
   "id": "555d1cd8",
   "metadata": {},
   "outputs": [
    {
     "name": "stdout",
     "output_type": "stream",
     "text": [
      "1120\n",
      "AACATGAAGTGCCACGGAGAGACACAGAGGATGCTTAGGGAATTTAGGATAGATAAAATGCATATGTCAAGAACTATGTTACATTTCAACCTAGTTTTCAAAATCAGAATACAACATCTGTCACAACCATCCACATAGCTGTGGACTATGTTTGTCAACATTAACAAAAGTAAGAGATTATTTGTTTTCCAGCAGCGTTCTCCTAACTTGTTTATTTCCACAAACCGTCTTTTCAATTTGTCAAAAGGGTGAATCATTCTAATTGGCTATGGAAGCATGACAATACAATGGAAATAAATGTCATTGGTCTATATAAACATCCATGTAGAAAGTATTGAGCCATTCTCAATGTTTTCTAAAGGAGGAATTACAACGCAATGATACCTCTATGTGAAATGTTTGATAAACAATAAACAAGATTGTTCTTCATTTTTACAGTAAAGGTTTTCCCACACTCTAAGTTAACCAGGTTTGACTATTTAAATCTATGTAACATAATCCCTGGTAATTTGCC\n",
      "TATCAAACATTTCACATAGAGGTATCATTGCGTTGTAATTCCTCCTTTAGAAAACATTGAGAATGGCTCAATACTTTCTACATGGATGTTTATATAGACCAATGACATTTATTTCCATTGTATTGTCATGCTTCCATAGCCAATTAGAATGATTCACCCTTTTGACAAATTGAAAAGACGGTTTGTGGAAATAAACAAGTTAGGAGAACGCTACTGGAAAACAAATAATCTCTTACTTTTGTTAATGTTGACAAACATAGTCCACAGCTATGTGGATGGTTGTGACAGATGTTGTATTCTGATTTTGAAAACTAGGTTGAAATGTAACATAGTTCTTGACATATGCATTTTTCCAAAGGTCATTGGGATCAGGTTTATGGCTAGAGAGTTAATGATTCGGGAAATATTTTCATTGAGGATGAAGCTTGGCAGGGGTTGGGGGTAGTATAGCCTTCCGGTAGGCATCATAGAGTGTGTCACATACACCAGGGAGATTACAAAGGATTATATTAAATAGGTTTAATCAGCCAAATCTAGTTAGCTCAGATTTTAGGTAAACTATTAATGCAATAATGAGAGATAATATTGGTTCATTTTATTAAACAATATGATTTGGGTGATCTGGAAAAAATGATCTCAAAGAATCTTGCAAGTTATAAAGTATAATCATAGAAAAAATGCATTTTTGTTTAGAGTTTCTT\n"
     ]
    }
   ],
   "source": [
    "print(len(df['scaffolds'][1][0]))\n",
    "print(df['scaffolds'][7][0])\n",
    "print(df['ref_seq_1'][7])"
   ]
  },
  {
   "cell_type": "code",
   "execution_count": 21,
   "id": "548b35d6",
   "metadata": {},
   "outputs": [
    {
     "data": {
      "text/plain": [
       "60"
      ]
     },
     "execution_count": 21,
     "metadata": {},
     "output_type": "execute_result"
    }
   ],
   "source": [
    "len('TTCTGCTAATACAGAAGAGGGAACA-----GTTTATTTCCCACTCTTAAAAGTGCATGGA')"
   ]
  },
  {
   "cell_type": "code",
   "execution_count": 22,
   "id": "49842837",
   "metadata": {},
   "outputs": [
    {
     "name": "stdout",
     "output_type": "stream",
     "text": [
      "ctttgtgtctaccctaaggtcacaaagaagtttcactctcttacatctcatgtttatagttggcctggaattgttttttctgtgtaggggcgaaggttcattttttccctcatattgacctagctgtttaattgaaaagaacatctgctgctgtgtaaatcaggtatacatgtacgtgtggatctgctggggaactccttcctgttaatttgtttgtctttccttgcaccagtattacaatgtattactgtagctttaaaataaatcttaatgcctggtagaataaggcctcctgttttgttcttcaatattgtcttggcttgctcctttgtatttccatatacattttagagtgggttttatcagcttccatacccaaacagaaatacccttaaggattttcttctctgattgcactaaatctataggtttctttgATCCTAGAAATGAATAATAGAATATAAAGAATTCTTATTGATGAAAGAAAGCTATTTCAGGAAACTtttttttttctgttaatgataaaggctaaatgattcctgtcaattgtttcaaattttcaactttcaaaatacctgctgcttctttccaattcacctttctctattctttttttttttccaattgtatttttctTTGACACTCAGTACTTGTCCCTTGATAGTGGAGACCATGTTTATACATTTTCATGGATCGAACAG\n",
      "target          145 CTGGCTTACCTTGTGCCAGGCAGATGGCAGCCACACAGTGTCCACCGGATGGTTGATTTT\n",
      "                  0 ||||||||||||||||||||||||||||||||||||||||||||||||||||||||||||\n",
      "query             0 CTGGCTTACCTTGTGCCAGGCAGATGGCAGCCACACAGTGTCCACCGGATGGTTGATTTT\n",
      "\n",
      "target          205 GAAGCAGAGTTAGCTTGTCACCTGCCTCCCTTTCCCGGGACAACAGAAGCTGACCTCTTT\n",
      "                 60 ||||||||||||||||||||||||||||||||||||||||||||||||||||||||||||\n",
      "query            60 GAAGCAGAGTTAGCTTGTCACCTGCCTCCCTTTCCCGGGACAACAGAAGCTGACCTCTTT\n",
      "\n",
      "target          265 GATCTCTTGCGCAGATGATGAGTCTCCGGGGCTCTATGGGTTTCTGAATGTCATCGTCCA\n",
      "                120 ||||||||||||||||||||||||||||||||||||||||||||||||||||||||||||\n",
      "query           120 GATCTCTTGCGCAGATGATGAGTCTCCGGGGCTCTATGGGTTTCTGAATGTCATCGTCCA\n",
      "\n",
      "target          325 CTCAGCCACTGGATTTAAGCAGAGTTCAAGTAAGTACTGGTTTGGGGAGGAGGGTTGCAG\n",
      "                180 ||||||||||||||||||||||||||||||||||||||||||||||||||||||||||||\n",
      "query           180 CTCAGCCACTGGATTTAAGCAGAGTTCAAGTAAGTACTGGTTTGGGGAGGAGGGTTGCAG\n",
      "\n",
      "target          385 CGGCCGAGCCAGGGTCTCCACCCAGGAAGGACTAATCGGGCAGGGTGTGGGGAAACAGGG\n",
      "                240 |||||||||||||||||||||||||||||||||.||||||||||||||||||||||||||\n",
      "query           240 CGGCCGAGCCAGGGTCTCCACCCAGGAAGGACTCATCGGGCAGGGTGTGGGGAAACAGGG\n",
      "\n",
      "target          445 AGGTTGTTCAGATGACCACGGGACACCTTTGACCCTGGCCGCTGTGGAGTG 496\n",
      "                300 ||||||||||||||||||||||||||||||||||||||||||||||||||| 351\n",
      "query           300 AGGTTGTTCAGATGACCACGGGACACCTTTGACCCTGGCCGCTGTGGAGTG 351\n",
      "\n"
     ]
    }
   ],
   "source": [
    "# alignments = aligner.align(df['scaffolds'][3][0], rev_comp(df[\"ref_seq_1\"][3].upper()))\n",
    "print(df['ref_seq_1'][0])\n",
    "alignments = aligner.align(df['scaffolds'][0][0], df[\"ref_seq_2\"][0].upper())\n",
    "for aln in alignments:\n",
    "    print(aln)"
   ]
  },
  {
   "cell_type": "code",
   "execution_count": 23,
   "id": "019fdaa4",
   "metadata": {},
   "outputs": [
    {
     "name": "stdout",
     "output_type": "stream",
     "text": [
      "gtcttaatttctttatggccagctgttccacagaaatgtggggaaaattcagagtaatatttttaggcttgatagctgactttagggaaaaatgattttagtttctatgacttgcctcaggcatggatgaggggtaagagacaggagacaggagggcaggagaaggtcagagagaaactgcttttgatgccttcattttggggtattattttcagagccccaGTAGTATCATTTACATTCTTTTCATGGGTTTCTTTGGTCTTTATTCTTCTGTTTTTTTCATTAACTGTCACATTACATAAACTATTTATACACATACACACGGATGTTCCATATGAGTCTGAAATAAAAATGCATAATAGTTACAAAACAATTTAAAGATAAGTTAGATGGTCAAATAGTAGAATGATTAATGAATTtgtaggactattcagtttttctttttcatttcatttttaaagttgtacttgcctagcaatttatttcaaatttgttggcatatgtttatttatattatctcattatcctttaaatgcctgaataatattgatattagttatttgtaacttgtatctctgttttaaaaagtttatctatatgtcttgccacagatttattacttttatcattatgttctaagaaacagtttttgccatcttgattctctttgtttacttttttttctTAATGtttcttttttt\n",
      "target           47 ATAAAAGTAATAAATCTGTGGCAAGACATATAGATAAACTTTTTAAAACAGAGATACAAG\n",
      "                  0 ||||||||||||||||||||||||||||||||||||||||||||||||||||||||||||\n",
      "query            75 ATAAAAGTAATAAATCTGTGGCAAGACATATAGATAAACTTTTTAAAACAGAGATACAAG\n",
      "\n",
      "target          107 TTACAAATAACTAATATCAATATTATTCAGGCATTTAAAGGATAATGAGATAATATAAAT\n",
      "                 60 ||||||||||||||||||||||||||||||||||||||||||||||||||||||||||||\n",
      "query           135 TTACAAATAACTAATATCAATATTATTCAGGCATTTAAAGGATAATGAGATAATATAAAT\n",
      "\n",
      "target          167 AAACATATGCCAACAAATTTGAAATAAATTGCTAGGCAAGTACAACTTTAAAAATGAAAT\n",
      "                120 ||||||||||||||||||||||||||||||||||||||||||||||||||||||||||||\n",
      "query           195 AAACATATGCCAACAAATTTGAAATAAATTGCTAGGCAAGTACAACTTTAAAAATGAAAT\n",
      "\n",
      "target          227 GAAAAAGAAAAACTGAATAGTCCTACAAATTCATTAATCATTCTACTATTTGACCATCTA\n",
      "                180 ||||||||||||||||||||||||||||||||||||||||||||||||||||||||||||\n",
      "query           255 GAAAAAGAAAAACTGAATAGTCCTACAAATTCATTAATCATTCTACTATTTGACCATCTA\n",
      "\n",
      "target          287 ACTTATCTTTAAATTGTTTTGTAACTATTATGCATTTTTATTTCAGACTCATATGGAACA\n",
      "                240 ||||||||||||||||||||||||||||||||||||||||||||||||||||||||||||\n",
      "query           315 ACTTATCTTTAAATTGTTTTGTAACTATTATGCATTTTTATTTCAGACTCATATGGAACA\n",
      "\n",
      "target          347 TCCGTGTGTATGTGTATAAATAGTTTATGTAATGTGACAGTTAATGAAAAAAACAGAAGA\n",
      "                300 ||||||||||||||||||||||||||||||||||||||||||||||||||||||||||||\n",
      "query           375 TCCGTGTGTATGTGTATAAATAGTTTATGTAATGTGACAGTTAATGAAAAAAACAGAAGA\n",
      "\n",
      "target          407 ATAAAGACCAAAGAAACCCATGAAAAGAATGTAAATGATACTACTGGGGCTCTGAAAATA\n",
      "                360 ||||||||||||||||||||||||||||||||||||||||||||||||||||||||||||\n",
      "query           435 ATAAAGACCAAAGAAACCCATGAAAAGAATGTAAATGATACTACTGGGGCTCTGAAAATA\n",
      "\n",
      "target          467 ATACCCCAAAATGAAGGCATCAAAAGCAGTTTCTCTCTGACCTTCTCCTGCCCTCCTGTC\n",
      "                420 ||||||||||||||||||||||||||||||||||||||||||||||||||||||||||||\n",
      "query           495 ATACCCCAAAATGAAGGCATCAAAAGCAGTTTCTCTCTGACCTTCTCCTGCCCTCCTGTC\n",
      "\n",
      "target          527 TCCTGTCTCTTACCCCTCATCCATGCCTGAGGCAAGTCATAGAAACTAAAATCATTTTTC\n",
      "                480 ||||||||||||||||||||||||||||||||||||||||||||||||||||||||||||\n",
      "query           555 TCCTGTCTCTTACCCCTCATCCATGCCTGAGGCAAGTCATAGAAACTAAAATCATTTTTC\n",
      "\n",
      "target          587 CCTAAAGTCAGCTATCAAGCCTAAAAATATTACTCTGAATTTTCCCCACATTTCTGTGGA\n",
      "                540 ||||||||||||||||||||||||||||||||||||||||||||||||||||||||||||\n",
      "query           615 CCTAAAGTCAGCTATCAAGCCTAAAAATATTACTCTGAATTTTCCCCACATTTCTGTGGA\n",
      "\n",
      "target          647 ACAGCTGGCCATAAAGAAATTAAGAC 673\n",
      "                600 |||||||||||||||||||||||||| 626\n",
      "query           675 ACAGCTGGCCATAAAGAAATTAAGAC 701\n",
      "\n"
     ]
    }
   ],
   "source": [
    "# alignments = aligner.align(df['scaffolds'][3][0], rev_comp(df[\"ref_seq_1\"][3].upper()))\n",
    "print(df['ref_seq_1'][4])\n",
    "alignments = aligner.align(df['scaffolds'][4][0], rev_comp(df[\"ref_seq_1\"][4].upper()))\n",
    "for aln in alignments:\n",
    "    print(aln)"
   ]
  },
  {
   "cell_type": "code",
   "execution_count": 24,
   "id": "c338a97c",
   "metadata": {},
   "outputs": [
    {
     "name": "stdout",
     "output_type": "stream",
     "text": [
      "target          471 ATGGACTGATGCTTCCTGGTCCCTTCTCCTGCAGACTGAGATGACATCCTGTGCAGGGGT\n",
      "                  0 ||||||||||||||||||||||||||||||||||||||||||||||||||||||||||||\n",
      "query           350 ATGGACTGATGCTTCCTGGTCCCTTCTCCTGCAGACTGAGATGACATCCTGTGCAGGGGT\n",
      "\n",
      "target          531 GATGTCAAGGGGGAGCAGGTTAAGGGAGAGGGGTCTTCTACTTTGCAAGTCCTCACCATG\n",
      "                 60 ||||||||||||||||||||||||||||||||||||||||||||||||||||||||||||\n",
      "query           410 GATGTCAAGGGGGAGCAGGTTAAGGGAGAGGGGTCTTCTACTTTGCAAGTCCTCACCATG\n",
      "\n",
      "target          591 TGGGCGCCCACACACCTCTGCTGGTAGGACTTCCTAGTGATCAGTCCCATCCTAGTTCTG\n",
      "                120 ||||||||||||||||||||||||||||||||||||||||||||||||||||||||||||\n",
      "query           470 TGGGCGCCCACACACCTCTGCTGGTAGGACTTCCTAGTGATCAGTCCCATCCTAGTTCTG\n",
      "\n",
      "target          651 AGGGGCTGGCCCTGGCTAGCAAGTGGGGTGTGCTTGGTGAAGAAGCTGAATGTGGGCTTT\n",
      "                180 ||||||||||||||||||||||||||||||||||||||||||||||||||||||||||||\n",
      "query           530 AGGGGCTGGCCCTGGCTAGCAAGTGGGGTGTGCTTGGTGAAGAAGCTGAATGTGGGCTTT\n",
      "\n",
      "target          711 GGAGCTGGTCAGATCGGAGCTGGCATCCAGCCTCTGAGAAGTCTCTATCCCCTGATCCCT\n",
      "                240 ||||||||||||||||||||||||||||||||||||||||||||||||||||||||||||\n",
      "query           590 GGAGCTGGTCAGATCGGAGCTGGCATCCAGCCTCTGAGAAGTCTCTATCCCCTGATCCCT\n",
      "\n",
      "target          771 GGGTTTTTGGGTTTCTCTATCTGTGGAGCCCACTGCCTAGGGCTAAGGTCA 822\n",
      "                300 ||||||||||||||||||||||||||||||||||||||||||||||||||| 351\n",
      "query           650 GGGTTTTTGGGTTTCTCTATCTGTGGAGCCCACTGCCTAGGGCTAAGGTCA 701\n",
      "\n",
      "TGACCTTAGCCCTAGGCAGTGGGCTCCACAGATAGAGAAACCCAAAAACCCAGGGATCAGGGGATAGAGACTTCTCAGAGGCTGGATGCCAGCTCCGATCTGACCAGCTCCAAAGCCCACATTCAGCTTCTTCACCAAGCACACCCCACTTGCTAGCCAGGGCCAGCCCCTCAGAACTAGGATGGGACTGATCACTAGGAAGTCCTACCAGCAGAGGTGTGTGGGCGCCCACATGGTGAGGACTTGCAAAGTAGAAGACCCCTCTCCCTTAACCTGCTCCCCCTTGACATCACCCCTGCACAGGATGTCATCTCAGTCTGCAGGAGAAGGGACCAGGAAGCATCAGTCCATGGGCCTGTTTGCCGGCTTTGAGCTGGGGGGCAGCTCTGCCAGGCAGAGGGTGTGAATGGGCTCGGCTCCTGCATGCACTCCCTGCCCTGGCTTCTGAAGCGCCCACCAGGGTTCTGGTGGCTTCCCCAGCTCGCGGCCCCTCCGGCCCTGCCGCTTCCCTACACAGCCCTTCCTCCTGCTCGTCATTTTCCGGAGCTCCGTGGGTGTTGGGCACAGACCCACGGCAGCCTCAGCATATGTGGAAGGCTCATGACGCATCCACGCGCGTGTGAAGTGCCGGTGTCTGCAGAGCAGAGGAAGGGGACATCTGTTTGAGTCATTGCCCAACAGCACAGGGCACTCCCATTGCT\n",
      "701\n",
      "134155523\n"
     ]
    }
   ],
   "source": [
    "print(df['alignments_left'][1][0])\n",
    "print(df['ref_seq_1'][1].upper())\n",
    "print(len(df['ref_seq_1'][1]))\n",
    "print(df['pos1'][1])"
   ]
  },
  {
   "cell_type": "code",
   "execution_count": 25,
   "id": "ea5a0c25",
   "metadata": {},
   "outputs": [
    {
     "name": "stdout",
     "output_type": "stream",
     "text": [
      "target          491 GAGTGGGTTTTATCAGCTTCCATACCCAAACAGAAATACCCTTAAGGATTTTCTTCTCTG\n",
      "                  0 ||||||||||||||||||||||||||||||||||||||||||||||||||||||||||||\n",
      "query           350 GAGTGGGTTTTATCAGCTTCCATACCCAAACAGAAATACCCTTAAGGATTTTCTTCTCTG\n",
      "\n",
      "target          551 ATTGCACTAAATCTATAGGTTTCTTTGATCCTAGAAATGAATAATAGAATATAAAGAATT\n",
      "                 60 ||||||||||||||||||||||||||||||||||||||||||||||||||||||||||||\n",
      "query           410 ATTGCACTAAATCTATAGGTTTCTTTGATCCTAGAAATGAATAATAGAATATAAAGAATT\n",
      "\n",
      "target          611 CTTATTGATGAAAGAAAGCTATTTCAGGAAACTTTTTTTTTTCTGTTAATGATAAAGGCT\n",
      "                120 ||||||||||||||||||||||||||||||||||||||||||||||||||||||||||||\n",
      "query           470 CTTATTGATGAAAGAAAGCTATTTCAGGAAACTTTTTTTTTTCTGTTAATGATAAAGGCT\n",
      "\n",
      "target          671 AAATGATTCCTGTCAATTGTTTCAAATTTTCAACTTTCAAAATACCTGCTGCTTCTTTCC\n",
      "                180 ||||||||||||||||||||||||||||||||||||||||||||||||||||||||||||\n",
      "query           530 AAATGATTCCTGTCAATTGTTTCAAATTTTCAACTTTCAAAATACCTGCTGCTTCTTTCC\n",
      "\n",
      "target          731 AATTCACCTTTCTCTATTCTTTTTTTTTTTCCAATTGTATTTTTCTTTGACACTCAGTAC\n",
      "                240 ||||||||||||||||||||||||||||||||||||||||||||||||||||||||||||\n",
      "query           590 AATTCACCTTTCTCTATTCTTTTTTTTTTTCCAATTGTATTTTTCTTTGACACTCAGTAC\n",
      "\n",
      "target          791 TTGTCCCTTGATAGTGGAGACCATGTTTATACATTTTCATGGATCGAACAG 842\n",
      "                300 ||||||||||||||||||||||||||||||||||||||||||||||||||| 351\n",
      "query           650 TTGTCCCTTGATAGTGGAGACCATGTTTATACATTTTCATGGATCGAACAG 701\n",
      "\n"
     ]
    }
   ],
   "source": [
    "print(df['alignments_left'][0][0])"
   ]
  },
  {
   "cell_type": "code",
   "execution_count": 26,
   "id": "e0b9898d",
   "metadata": {},
   "outputs": [
    {
     "name": "stdout",
     "output_type": "stream",
     "text": [
      "target         492            GAGTGGGTTTTATCAGCTTCCATACCCAAACAGAAATACCCTTAAGGATTTTCTTCTCTG 551\n",
      "                              ||||||||||||||||||||||||||||||||||||||||||||||||||||||||||||\n",
      "ref            chr9:133607147 GAGTGGGTTTTATCAGCTTCCATACCCAAACAGAAATACCCTTAAGGATTTTCTTCTCTG 133607206\n",
      "\n",
      "target         552            ATTGCACTAAATCTATAGGTTTCTTTGATCCTAGAAATGAATAATAGAATATAAAGAATT 611\n",
      "                              ||||||||||||||||||||||||||||||||||||||||||||||||||||||||||||\n",
      "ref            chr9:133607207 ATTGCACTAAATCTATAGGTTTCTTTGATCCTAGAAATGAATAATAGAATATAAAGAATT 133607266\n",
      "\n",
      "target         612            CTTATTGATGAAAGAAAGCTATTTCAGGAAACTTTTTTTTTTCTGTTAATGATAAAGGCT 671\n",
      "                              ||||||||||||||||||||||||||||||||||||||||||||||||||||||||||||\n",
      "ref            chr9:133607267 CTTATTGATGAAAGAAAGCTATTTCAGGAAACTTTTTTTTTTCTGTTAATGATAAAGGCT 133607326\n",
      "\n",
      "target         672            AAATGATTCCTGTCAATTGTTTCAAATTTTCAACTTTCAAAATACCTGCTGCTTCTTTCC 731\n",
      "                              ||||||||||||||||||||||||||||||||||||||||||||||||||||||||||||\n",
      "ref            chr9:133607327 AAATGATTCCTGTCAATTGTTTCAAATTTTCAACTTTCAAAATACCTGCTGCTTCTTTCC 133607386\n",
      "\n",
      "target         732            AATTCACCTTTCTCTATTCTTTTTTTTTTTCCAATTGTATTTTTCTTTGACACTCAGTAC 791\n",
      "                              ||||||||||||||||||||||||||||||||||||||||||||||||||||||||||||\n",
      "ref            chr9:133607387 AATTCACCTTTCTCTATTCTTTTTTTTTTTCCAATTGTATTTTTCTTTGACACTCAGTAC 133607446\n",
      "\n",
      "target         792            TTGTCCCTTGATAGTGGAGACCATGTTTATACATTTTCATGGATCGAACAG 842\n",
      "                              ||||||||||||||||||||||||||||||||||||||||||||||||||| \n",
      "ref            chr9:133607447 TTGTCCCTTGATAGTGGAGACCATGTTTATACATTTTCATGGATCGAACAG 133607497\n",
      "\n",
      "target         146            CTGGCTTACCTTGTGCCAGGCAGATGGCAGCCACACAGTGTCCACCGGATGGTTGATTTT 205\n",
      "                              ||||||||||||||||||||||||||||||||||||||||||||||||||||||||||||\n",
      "ref            chr22:23632392 CTGGCTTACCTTGTGCCAGGCAGATGGCAGCCACACAGTGTCCACCGGATGGTTGATTTT 23632451\n",
      "\n",
      "target         206            GAAGCAGAGTTAGCTTGTCACCTGCCTCCCTTTCCCGGGACAACAGAAGCTGACCTCTTT 265\n",
      "                              ||||||||||||||||||||||||||||||||||||||||||||||||||||||||||||\n",
      "ref            chr22:23632452 GAAGCAGAGTTAGCTTGTCACCTGCCTCCCTTTCCCGGGACAACAGAAGCTGACCTCTTT 23632511\n",
      "\n",
      "target         266            GATCTCTTGCGCAGATGATGAGTCTCCGGGGCTCTATGGGTTTCTGAATGTCATCGTCCA 325\n",
      "                              ||||||||||||||||||||||||||||||||||||||||||||||||||||||||||||\n",
      "ref            chr22:23632512 GATCTCTTGCGCAGATGATGAGTCTCCGGGGCTCTATGGGTTTCTGAATGTCATCGTCCA 23632571\n",
      "\n",
      "target         326            CTCAGCCACTGGATTTAAGCAGAGTTCAAGTAAGTACTGGTTTGGGGAGGAGGGTTGCAG 385\n",
      "                              ||||||||||||||||||||||||||||||||||||||||||||||||||||||||||||\n",
      "ref            chr22:23632572 CTCAGCCACTGGATTTAAGCAGAGTTCAAGTAAGTACTGGTTTGGGGAGGAGGGTTGCAG 23632631\n",
      "\n",
      "target         386            CGGCCGAGCCAGGGTCTCCACCCAGGAAGGACTAATCGGGCAGGGTGTGGGGAAACAGGG 445\n",
      "                              |||||||||||||||||||||||||||||||||.||||||||||||||||||||||||||\n",
      "ref            chr22:23632632 CGGCCGAGCCAGGGTCTCCACCCAGGAAGGACTCATCGGGCAGGGTGTGGGGAAACAGGG 23632691\n",
      "\n",
      "target         446            AGGTTGTTCAGATGACCACGGGACACCTTTGACCCTGGCCGCTGTGGAGTG 496\n",
      "                              ||||||||||||||||||||||||||||||||||||||||||||||||||| \n",
      "ref            chr22:23632692 AGGTTGTTCAGATGACCACGGGACACCTTTGACCCTGGCCGCTGTGGAGTG 23632742\n",
      "\n"
     ]
    }
   ],
   "source": [
    "# format function turns PairwiseAlignment object into string which can be made into list\n",
    "# 2nd breakpoint, first scaffold, assuming left side alignment is chrom1 and pos1\n",
    "print(format_alignment(format(df['alignments_left'][0][0]).split('\\n'), True, df['chrom1'][0], df['pos1'][0]))\n",
    "\n",
    "print(format_alignment(format(df['alignments_right'][0][0]).split('\\n'), True, df['chrom2'][0], df['pos2'][0]))"
   ]
  },
  {
   "cell_type": "code",
   "execution_count": 27,
   "id": "66d070f4",
   "metadata": {},
   "outputs": [
    {
     "name": "stdout",
     "output_type": "stream",
     "text": [
      "target          491 GAGTGGGTTTTATCAGCTTCCATACCCAAACAGAAATACCCTTAAGGATTTTCTTCTCTG\n",
      "                  0 ||||||||||||||||||||||||||||||||||||||||||||||||||||||||||||\n",
      "query           350 GAGTGGGTTTTATCAGCTTCCATACCCAAACAGAAATACCCTTAAGGATTTTCTTCTCTG\n",
      "\n",
      "target          551 ATTGCACTAAATCTATAGGTTTCTTTGATCCTAGAAATGAATAATAGAATATAAAGAATT\n",
      "                 60 ||||||||||||||||||||||||||||||||||||||||||||||||||||||||||||\n",
      "query           410 ATTGCACTAAATCTATAGGTTTCTTTGATCCTAGAAATGAATAATAGAATATAAAGAATT\n",
      "\n",
      "target          611 CTTATTGATGAAAGAAAGCTATTTCAGGAAACTTTTTTTTTTCTGTTAATGATAAAGGCT\n",
      "                120 ||||||||||||||||||||||||||||||||||||||||||||||||||||||||||||\n",
      "query           470 CTTATTGATGAAAGAAAGCTATTTCAGGAAACTTTTTTTTTTCTGTTAATGATAAAGGCT\n",
      "\n",
      "target          671 AAATGATTCCTGTCAATTGTTTCAAATTTTCAACTTTCAAAATACCTGCTGCTTCTTTCC\n",
      "                180 ||||||||||||||||||||||||||||||||||||||||||||||||||||||||||||\n",
      "query           530 AAATGATTCCTGTCAATTGTTTCAAATTTTCAACTTTCAAAATACCTGCTGCTTCTTTCC\n",
      "\n",
      "target          731 AATTCACCTTTCTCTATTCTTTTTTTTTTTCCAATTGTATTTTTCTTTGACACTCAGTAC\n",
      "                240 ||||||||||||||||||||||||||||||||||||||||||||||||||||||||||||\n",
      "query           590 AATTCACCTTTCTCTATTCTTTTTTTTTTTCCAATTGTATTTTTCTTTGACACTCAGTAC\n",
      "\n",
      "target          791 TTGTCCCTTGATAGTGGAGACCATGTTTATACATTTTCATGGATCGAACAG 842\n",
      "                300 ||||||||||||||||||||||||||||||||||||||||||||||||||| 351\n",
      "query           650 TTGTCCCTTGATAGTGGAGACCATGTTTATACATTTTCATGGATCGAACAG 701\n",
      "\n",
      "ctttgtgtctaccctaaggtcacaaagaagtttcactctcttacatctcatgtttatagttggcctggaattgttttttctgtgtaggggcgaaggttcattttttccctcatattgacctagctgtttaattgaaaagaacatctgctgctgtgtaaatcaggtatacatgtacgtgtggatctgctggggaactccttcctgttaatttgtttgtctttccttgcaccagtattacaatgtattactgtagctttaaaataaatcttaatgcctggtagaataaggcctcctgttttgttcttcaatattgtcttggcttgctcctttgtatttccatatacattttagagtgggttttatcagcttccatacccaaacagaaatacccttaaggattttcttctctgattgcactaaatctataggtttctttgATCCTAGAAATGAATAATAGAATATAAAGAATTCTTATTGATGAAAGAAAGCTATTTCAGGAAACTtttttttttctgttaatgataaaggctaaatgattcctgtcaattgtttcaaattttcaactttcaaaatacctgctgcttctttccaattcacctttctctattctttttttttttccaattgtatttttctTTGACACTCAGTACTTGTCCCTTGATAGTGGAGACCATGTTTATACATTTTCATGGATCGAACAG\n",
      "701\n"
     ]
    }
   ],
   "source": [
    "print(df['alignments_left'][0][0])\n",
    "print(df['ref_seq_1'][0])\n",
    "print(len(df['ref_seq_1'][0]))"
   ]
  },
  {
   "cell_type": "code",
   "execution_count": 28,
   "id": "d0d8ef56",
   "metadata": {},
   "outputs": [
    {
     "name": "stdout",
     "output_type": "stream",
     "text": [
      "target          145 CTGGCTTACCTTGTGCCAGGCAGATGGCAGCCACACAGTGTCCACCGGATGGTTGATTTT\n",
      "                  0 ||||||||||||||||||||||||||||||||||||||||||||||||||||||||||||\n",
      "query             0 CTGGCTTACCTTGTGCCAGGCAGATGGCAGCCACACAGTGTCCACCGGATGGTTGATTTT\n",
      "\n",
      "target          205 GAAGCAGAGTTAGCTTGTCACCTGCCTCCCTTTCCCGGGACAACAGAAGCTGACCTCTTT\n",
      "                 60 ||||||||||||||||||||||||||||||||||||||||||||||||||||||||||||\n",
      "query            60 GAAGCAGAGTTAGCTTGTCACCTGCCTCCCTTTCCCGGGACAACAGAAGCTGACCTCTTT\n",
      "\n",
      "target          265 GATCTCTTGCGCAGATGATGAGTCTCCGGGGCTCTATGGGTTTCTGAATGTCATCGTCCA\n",
      "                120 ||||||||||||||||||||||||||||||||||||||||||||||||||||||||||||\n",
      "query           120 GATCTCTTGCGCAGATGATGAGTCTCCGGGGCTCTATGGGTTTCTGAATGTCATCGTCCA\n",
      "\n",
      "target          325 CTCAGCCACTGGATTTAAGCAGAGTTCAAGTAAGTACTGGTTTGGGGAGGAGGGTTGCAG\n",
      "                180 ||||||||||||||||||||||||||||||||||||||||||||||||||||||||||||\n",
      "query           180 CTCAGCCACTGGATTTAAGCAGAGTTCAAGTAAGTACTGGTTTGGGGAGGAGGGTTGCAG\n",
      "\n",
      "target          385 CGGCCGAGCCAGGGTCTCCACCCAGGAAGGACTAATCGGGCAGGGTGTGGGGAAACAGGG\n",
      "                240 |||||||||||||||||||||||||||||||||.||||||||||||||||||||||||||\n",
      "query           240 CGGCCGAGCCAGGGTCTCCACCCAGGAAGGACTCATCGGGCAGGGTGTGGGGAAACAGGG\n",
      "\n",
      "target          445 AGGTTGTTCAGATGACCACGGGACACCTTTGACCCTGGCCGCTGTGGAGTG 496\n",
      "                300 ||||||||||||||||||||||||||||||||||||||||||||||||||| 351\n",
      "query           300 AGGTTGTTCAGATGACCACGGGACACCTTTGACCCTGGCCGCTGTGGAGTG 351\n",
      "\n",
      "CTGGCTTACCTTGTGCCAGGCAGATGGCAGCCACACAGTGTCCACCGGATGGTTGATTTTGAAGCAGAGTTAGCTTGTCACCTGCCTCCCTTTCCCGGGACAACAGAAGCTGACCTCTTTGATCTCTTGCGCAGATGATGAGTCTCCGGGGCTCTATGGGTTTCTGAATGTCATCGTCCACTCAGCCACTGGATTTAAGCAGAGTTCAAGTAAGTACTGGTTTGGGGAGGAGGGTTGCAGCGGCCGAGCCAGGGTCTCCACCCAGGAAGGACTCATCGGGCAGGGTGTGGGGAAACAGGGAGGTTGTTCAGATGACCACGGGACACCTTTGACCCTGGCCGCTGTGGAGTGTTTGTGCTGGTTGATGCCTTCTGGGTGTGGAATTGTTTTTCCCGGAGTGGCCTCTGCCCTCTCCCCTAGCCTGTCTCAGATCCTGGGAGCTGGTGAGCTGCCCCCTGCAGGTGGATCGAGTAATTGCAGGGGTTTGGCAAGGACTTTGACAGACATCCCCAGGGGTGCCCGGGAGTGTGGGGTCCAAGCCAGGAGGGCTGTCAGCAGTGCACCTTCACCCCACAGCAGAGCAGATTTGGCTGCTCTGTCGAGCTGGATGGATACTACTTTTTTTTTCCTTTCCCTCTAAGTGGGGGTCTCCCCCAGCTACTGGAGCTGTCAGAACAGTGAAGGCTGGTAACACATGAGTT\n",
      "701\n"
     ]
    }
   ],
   "source": [
    "print(df['alignments_right'][0][0])\n",
    "print(df['ref_seq_2'][0])\n",
    "print(len(df['ref_seq_2'][0]))"
   ]
  },
  {
   "cell_type": "code",
   "execution_count": 29,
   "id": "c2da1f1c",
   "metadata": {},
   "outputs": [
    {
     "data": {
      "text/plain": [
       "701"
      ]
     },
     "execution_count": 29,
     "metadata": {},
     "output_type": "execute_result"
    }
   ],
   "source": [
    "len(df['ref_seq_1'][0])"
   ]
  },
  {
   "cell_type": "code",
   "execution_count": 30,
   "id": "2dea9bdf",
   "metadata": {},
   "outputs": [],
   "source": [
    "import numpy as np\n",
    "import pandas as pd\n",
    "df1 = pd.read_csv(\"augmented_predictions1.tsv\", sep=\"\\t\")\n",
    "df2 = pd.read_csv(\"augmented_predictions.tsv\", sep=\"\\t\")\n",
    "\n",
    "df2[\"sc_hom_len\"] = df2[\"sc_hom_len\"].replace('', np.nan)\n",
    "df2[\"sc_hom_len\"] = df2[\"sc_hom_len\"].astype(float).astype('Int64')\n",
    "df2[\"sc_pos1\"] = df2[\"sc_pos1\"].replace('', np.nan)\n",
    "df2[\"sc_pos1\"] = df2[\"sc_pos1\"].astype(float).astype('Int64')\n",
    "df2[\"sc_pos2\"] = df2[\"sc_pos2\"].replace('', np.nan)\n",
    "df2[\"sc_pos2\"] = df2[\"sc_pos2\"].astype(float).astype('Int64')\n",
    "\n",
    "new_cols = [col for col in df2.columns if col not in df1.columns]\n",
    "df1_with_new = pd.concat([df1, df2[new_cols]], axis=1)\n",
    "df1_with_new.to_csv(\"K562_summaries_refined.tsv\", sep=\"\\t\", index=False)"
   ]
  },
  {
   "cell_type": "code",
   "execution_count": 61,
   "id": "1987aa7d",
   "metadata": {},
   "outputs": [
    {
     "name": "stdout",
     "output_type": "stream",
     "text": [
      "target            0 GTTAATGAAAAAAACAGAAGAATAAAGACCAAAGAAAC  38\n",
      "                  0 ||||||||||||||||||||||||||||||||||||||  38\n",
      "query           313 GTTAATGAAAAAAACAGAAGAATAAAGACCAAAGAAAC 351\n",
      "\n"
     ]
    }
   ],
   "source": [
    "alignments = aligner.align(df['scaffolds'][2][1], rev_comp(df[\"ref_seq_2\"][2].upper()))\n",
    "print(alignments[0])"
   ]
  },
  {
   "cell_type": "code",
   "execution_count": null,
   "id": "f10f82af",
   "metadata": {},
   "outputs": [
    {
     "name": "stdout",
     "output_type": "stream",
     "text": [
      "target           35 AACTTTTATCCTCTCTCATGGGGTGCATTACTTTCCAGTCTGGTACATTGTCTAGAAAAG\n",
      "                  0 ||||||||||||||||||||||||||||||||||||||||||||||||||||||||||||\n",
      "query           350 AACTTTTATCCTCTCTCATGGGGTGCATTACTTTCCAGTCTGGTACATTGTCTAGAAAAG\n",
      "\n",
      "target           95 TGTCGGTGACCCTGATTCATCAAGTCATGGGCTACTTTTCACCCCCAAATTTCTTAGTCA\n",
      "                 60 ||||||||||||||||||||||||||||||||||||||||||||||||||||||||||||\n",
      "query           410 TGTCGGTGACCCTGATTCATCAAGTCATGGGCTACTTTTCACCCCCAAATTTCTTAGTCA\n",
      "\n",
      "target          155 TTGTCTCTGCTGTGGGGCCCCACTAGTTCCATGCCATTAAAATTCAGACTTGAGTCATCT\n",
      "                120 ||||||||||||||||||||||||||||||||||||||||||||||||||||||||||||\n",
      "query           470 TTGTCTCTGCTGTGGGGCCCCACTAGTTCCATGCCATTAAAATTCAGACTTGAGTCATCT\n",
      "\n",
      "target          215 TCATTGAAAATAATATTGATACTATCCAAAGGAAATACAAACAATTTAAAAAATATATAG\n",
      "                180 ||||||||||||||||||||||||||||||||||||||||||||||||||||||||||||\n",
      "query           530 TCATTGAAAATAATATTGATACTATCCAAAGGAAATACAAACAATTTAAAAAATATATAG\n",
      "\n",
      "target          275 ATCAAGTCTATGTTTATAGCTTTTTCTTTTCTAGGACTAAAGTTTTAAATTTACCTATTT\n",
      "                240 ||||||||||||||||||||||||||||||||||||||||||||||||||||||||||||\n",
      "query           590 ATCAAGTCTATGTTTATAGCTTTTTCTTTTCTAGGACTAAAGTTTTAAATTTACCTATTT\n",
      "\n",
      "target          335 ACTAAATGGTAACATTTTTATGGCCTCTCATCGGGTTTGGAATATATATAT 386\n",
      "                300 ||||||||||||||||||||||||||||||||||||||||||||||||||| 351\n",
      "query           650 ACTAAATGGTAACATTTTTATGGCCTCTCATCGGGTTTGGAATATATATAT 701\n",
      "\n"
     ]
    }
   ],
   "source": [
    "alignments = aligner.align(df['scaffolds'][8][1], df[\"ref_seq_1\"][2].upper())\n",
    "print(alignments[0])"
   ]
  }
 ],
 "metadata": {
  "kernelspec": {
   "display_name": "venv",
   "language": "python",
   "name": "python3"
  },
  "language_info": {
   "codemirror_mode": {
    "name": "ipython",
    "version": 3
   },
   "file_extension": ".py",
   "mimetype": "text/x-python",
   "name": "python",
   "nbconvert_exporter": "python",
   "pygments_lexer": "ipython3",
   "version": "3.13.5"
  }
 },
 "nbformat": 4,
 "nbformat_minor": 5
}
