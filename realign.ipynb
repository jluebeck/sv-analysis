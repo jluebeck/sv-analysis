{
 "cells": [
  {
   "cell_type": "code",
   "execution_count": 1,
   "id": "5c612ccd",
   "metadata": {},
   "outputs": [],
   "source": [
    "from Bio import Align\n",
    "from Bio.Seq import Seq\n",
    "from Bio.Align import substitution_matrices\n",
    "import pandas as pd\n",
    "import subprocess\n",
    "import shutil"
   ]
  },
  {
   "cell_type": "code",
   "execution_count": 2,
   "id": "846be501",
   "metadata": {},
   "outputs": [],
   "source": [
    "def extract_region(fasta_file, region):\n",
    "    \"\"\"\n",
    "    Extracts a specific region from a FASTA file using samtools.\n",
    "\n",
    "    :param fasta_file: Path to the indexed FASTA file.\n",
    "    :param region: Region in the format \"chr:start-end\" (e.g., \"chr18:180-280\").\n",
    "    :return: The sequence as a string.\n",
    "    \"\"\"\n",
    "    result = subprocess.run(\n",
    "        [\"samtools\", \"faidx\", fasta_file, region],\n",
    "        stdout=subprocess.PIPE,\n",
    "        stderr=subprocess.PIPE,\n",
    "        text=True\n",
    "    )\n",
    "    if result.returncode == 0:\n",
    "        # The sequence will be in the second line, as the first line contains the header\n",
    "        return ''.join(result.stdout.splitlines()[1:])\n",
    "    else:\n",
    "        raise Exception(f\"Error: {result.stderr.strip()}\")\n",
    "    \n",
    "def generate_scaffolds(fastq1, fastq2, out_dir='out'):\n",
    "    \"\"\"\n",
    "    Extracts a specific region from a FASTA file using samtools.\n",
    "\n",
    "    :param fasta_file: Path to the indexed FASTA file.\n",
    "    :param region: Region in the format \"chr:start-end\" (e.g., \"chr18:180-280\").\n",
    "    :return: The sequence as a string.\n",
    "    \"\"\"\n",
    "\n",
    "    shutil.rmtree('./out')\n",
    "    result = subprocess.run(\n",
    "        [\"python\", \"./SPAdes-4.2.0-Linux/bin/spades.py\", \"--meta\", \"--pe1-1\", f\"./fastq/{fastq1}\", \"--pe1-2\", f\"./fastq/{fastq2}\", \"-o\", out_dir],\n",
    "        stdout=subprocess.PIPE,\n",
    "        stderr=subprocess.PIPE,\n",
    "        text=True\n",
    "    )\n",
    "    # print(result.stdout)\n",
    "    # print(result.stderr)\n",
    "    if result.returncode == 0:\n",
    "        # The sequence will be in the second line, as the first line contains the header\n",
    "        with open(f'./{out_dir}/scaffolds.fasta', 'r') as file:\n",
    "            file_content = file.read()  # Read the entire content of the file into a string\n",
    "            return [''.join(s.split('\\n')[1:]) for s in file_content.split('>')][1:]\n",
    "    else:\n",
    "        raise Exception(f\"{result.stderr}\")"
   ]
  },
  {
   "cell_type": "code",
   "execution_count": 3,
   "id": "4e55c74c",
   "metadata": {},
   "outputs": [],
   "source": [
    "df = pd.read_csv('./K562/K562_summaries.tsv', sep=\"\\t\")\n",
    "# aligner = Align.PairwiseAligner(mode=\"global\", open_gap_score = -10, extend_gap_score = -0.5, match_score = 1.0, mismatch_score = -1.0)\n",
    "aligner = Align.PairwiseAligner(mode=\"local\", open_gap_score = -10, extend_gap_score = -5, match_score=2, mismatch_score=-2)\n",
    "df['ref_seq_1'] = df['chrom1'].str.cat((df['pos1'] - 350).astype(str).str.cat((df['pos1'] + 350).astype(str), sep='-'), sep=':').apply(lambda x: extract_region('hg19/hg19full.fa', x))\n",
    "df['ref_seq_2'] = df['chrom2'].str.cat((df['pos2'] - 350).astype(str).str.cat((df['pos2'] + 350).astype(str), sep='-'), sep=':').apply(lambda x: extract_region('hg19/hg19full.fa', x))\n",
    "fastqs = ([('b_' + df['chrom1'] + '_' + (df['pos1']+1).astype(str) + '_' + df['chrom2'] + '_' + (df['pos2']+1).astype(str) + '_' + str(x) + '.fastq.gz').to_list() for x in range(1, 3)])\n",
    "df['scaffolds'] = [generate_scaffolds(fastqs[0][idx], fastqs[1][idx]) for idx, val in enumerate(fastqs[0])]\n",
    "\n"
   ]
  },
  {
   "cell_type": "code",
   "execution_count": 4,
   "id": "f1f5e625",
   "metadata": {},
   "outputs": [
    {
     "data": {
      "text/plain": [
       "0                                      [(132.0, 700.0)]\n",
       "1                         [(28.0, 48.0), (530.0, 12.0)]\n",
       "2                        [(22.0, 106.0), (700.0, 28.0)]\n",
       "3                        [(120.0, 18.0), (18.0, 224.0)]\n",
       "4                                      [(106.0, 106.0)]\n",
       "5            [(20.0, 22.0), (18.0, 20.0), (18.0, 20.0)]\n",
       "6           [(456.0, 30.0), (18.0, 26.0), (20.0, 24.0)]\n",
       "7           [(30.0, 26.0), (22.0, 248.0), (26.0, 32.0)]\n",
       "8            [(26.0, 28.0), (26.0, 22.0), (30.0, 26.0)]\n",
       "9                                        [(4.0, 294.0)]\n",
       "10         [(226.0, 530.0), (16.0, 20.0), (58.0, 76.0)]\n",
       "11    [(584.0, 124.0), (58.0, 76.0), (66.0, 64.0), (...\n",
       "dtype: object"
      ]
     },
     "execution_count": 4,
     "metadata": {},
     "output_type": "execute_result"
    }
   ],
   "source": [
    "scaffold_alignments = df.apply(lambda row: [(aligner.align(row['ref_seq_1'], scaffold)[0].score, aligner.align(row['ref_seq_2'], scaffold)[0].score) for scaffold in row['scaffolds']], axis=1)\n",
    "scaffold_alignments"
   ]
  },
  {
   "cell_type": "code",
   "execution_count": 5,
   "id": "e033ead3",
   "metadata": {},
   "outputs": [
    {
     "name": "stdout",
     "output_type": "stream",
     "text": [
      "breakpoint 0\n",
      "best_left_scaffold: 0 , score: (132.0, 700.0)\n",
      "best_right_scaffold: 0 , score: (132.0, 700.0)\n",
      "breakpoint 1\n",
      "best_left_scaffold: 1 , score: (530.0, 12.0)\n",
      "best_right_scaffold: 0 , score: (28.0, 48.0)\n",
      "breakpoint 2\n",
      "best_left_scaffold: 1 , score: (700.0, 28.0)\n",
      "best_right_scaffold: 0 , score: (22.0, 106.0)\n",
      "breakpoint 3\n",
      "best_left_scaffold: 0 , score: (120.0, 18.0)\n",
      "best_right_scaffold: 1 , score: (18.0, 224.0)\n",
      "breakpoint 4\n",
      "best_left_scaffold: 0 , score: (106.0, 106.0)\n",
      "best_right_scaffold: 0 , score: (106.0, 106.0)\n",
      "breakpoint 5\n",
      "best_left_scaffold: 0 , score: (20.0, 22.0)\n",
      "best_right_scaffold: 0 , score: (20.0, 22.0)\n",
      "breakpoint 6\n",
      "best_left_scaffold: 0 , score: (456.0, 30.0)\n",
      "best_right_scaffold: 0 , score: (456.0, 30.0)\n",
      "breakpoint 7\n",
      "best_left_scaffold: 0 , score: (30.0, 26.0)\n",
      "best_right_scaffold: 1 , score: (22.0, 248.0)\n",
      "breakpoint 8\n",
      "best_left_scaffold: 2 , score: (30.0, 26.0)\n",
      "best_right_scaffold: 0 , score: (26.0, 28.0)\n",
      "breakpoint 9\n",
      "best_left_scaffold: 0 , score: (4.0, 294.0)\n",
      "best_right_scaffold: 0 , score: (4.0, 294.0)\n",
      "breakpoint 10\n",
      "best_left_scaffold: 0 , score: (226.0, 530.0)\n",
      "best_right_scaffold: 0 , score: (226.0, 530.0)\n",
      "breakpoint 11\n",
      "best_left_scaffold: 0 , score: (584.0, 124.0)\n",
      "best_right_scaffold: 0 , score: (584.0, 124.0)\n"
     ]
    }
   ],
   "source": [
    "for idx, aligns in enumerate(scaffold_alignments):\n",
    "    print(\"breakpoint\", idx)\n",
    "    left_max = max(scaffold_alignments[idx], key=lambda x: x[0])\n",
    "    left_idx_max = scaffold_alignments[idx].index(left_max)\n",
    "    right_max = max(scaffold_alignments[idx], key=lambda x: x[1])\n",
    "    right_idx_max = scaffold_alignments[idx].index(right_max)\n",
    "    print(\"best_left_scaffold:\", left_idx_max, \", score:\", left_max)\n",
    "    print(\"best_right_scaffold:\", right_idx_max, \", score:\", right_max)\n"
   ]
  },
  {
   "cell_type": "code",
   "execution_count": 6,
   "id": "750ec0b6",
   "metadata": {},
   "outputs": [
    {
     "data": {
      "text/plain": [
       "[(584.0, 124.0), (58.0, 76.0), (66.0, 64.0), (58.0, 14.0)]"
      ]
     },
     "execution_count": 6,
     "metadata": {},
     "output_type": "execute_result"
    }
   ],
   "source": [
    "scaffold_alignments[11]"
   ]
  },
  {
   "cell_type": "code",
   "execution_count": null,
   "id": "3a757c73",
   "metadata": {},
   "outputs": [
    {
     "data": {
      "text/plain": [
       "['GTCCATTCCACCTGAATGCACACTGATTCTGATCCTATTCTCTGAGGGAAATAGACAAGACCTCAGTATCTGCTTCAGTGGTGTAACTGTGCACCTGCAGCCATAGCATTCTGTTCCCAGAGATCCCCATCTGGCACAGATATTGCTAATGCCACTATTGCCCATCTGGGTCTGTACAAATCCAAATTCATCTTCCAGGATCATTCAACTATTGTAGAGATCAGTCCAGTAAACTGAAAACAAAACCCCAGAAGTAATCACACGTACTGCGGGAGAGGAGAGAGCTGTCTCAGAGGGCACAGTCTTGTTGAAATTCCTCTGCTTCTTGGGAAGAAACAGCCCAGAAAAGGCTCCAGGGGCTGCGTCTCATCTGGGTTCCTGGATGAGGCACACCCCCTACTGCACTGAGATTCCACAGAAGCTGGGGGTGAAGTGCAAACACCGTCTTTGGTTCATCCTTGGGATTTTCTTTTTATCACACACTCGTCATTTTGTCCACAATGTCCAAAGTTTCTAAAGTGCTGTCTAATAGATAGAGGTTCTTTGTGCGCTGAACTAAAAGCTCTTGGGTTGGACAATGGTGATGTTTGCACAACATTTTTACTGTACTTACTGCCGCTTAATTACA',\n",
       " 'TTTTTTAGATGGAGTCTCACTCTGTAGCCCAGGCTGGAGTGCAGTGGCCCGATCTTGGCTCACTGCAAGCTCCACCTCCCAGATTCACACCGTTCTCCTGCCTCAGCCTCCCTAGTAGCTGGGACTACAGGCACGCGCCACCGCACCCGGCTAATTTTTTTGTATTTTTTTATTTTAGTAGAGATGAGTTTTCACTGTGTTAGCCAGGATGGTCTCAATCTCCTGACCTCGTGATCTGCCTGCTTCGGCCTCCCAAAGTGCTGGGATTACAGGTGTGAGCCACCGCGCTCGGCCATAACGTGTTGTTTATTTTGTAGGAGACTCTCAGCTGCTCCAGACAACTGAAGTCCCAATTTCAGCTAATATGGAGGAGGAAACATCTTTGTTTATTTCCCACTCTCAAAAGTGCATGGATCTCACAAAAGCTTCCAATAGGCCGTGCCCATCATGTATATGTGATTGAACTATGATATCCAGATGGTCTGAGCCCCCATGATGATATCATGATAGGGAAGGGAGAGCTAATGAAGCTGGGCAGAAAAAGTGTGAATGTATACTGTTGTCCATTCCACCTGAATGCACACTGATTCTGATCCTATTCTCTGAGGGAAATAGA',\n",
       " 'ATGCTCTGGGCCTGGAAAACAATGGGTGATATTTGTGGCTCCTGATATATGGGTTGGAGCCACATCCCTAAGTGTAAAATATGTTACTCCTAGACCTTTATAGACCTTGTGTCTCTTTCTTCCTGGAGGGAATTGAAGGGTATAATAACATGTTCTTTAATTTGTAGGAGACTCTCAGCTGCTCCAGACAACTAAAGTCCCAATTTCTGCTAATACAGAAGAGGGAACAGTTTATTTCCCACTCTTAAAAGTGCATGGATCTCACAAAAGCTTCCAGTAGGCCATGCCCATCATGTATATGTGATTCAACTATGATATCAAGATGGTCTGAACCCTCATGATGATATCATGATAGAGATAAGAGAGCTAATGATGCTGGGCAGAGAAAGTGTGAATGTATACTGTCGTCCATTCCACCTGAATGCACACTGATTCTGATCCTATTCTCTGAGGGAAATAGA',\n",
       " 'CATTTTGTCCACAATGCCCAAAGTTTCTAAATAGCTGTCTAATAGATAGAGAGGTTCTGTGTGGGCTGATGAAAAAGCTCTGGGGTTGGATAGTGGTGATGTTTGCACAACATTTTTACTGTACTTACTGCTGCTTAATTACACACTTAAAAATGATTAAAAGGATGAAACATTTTGTTATGTTTATTTTACCATAATAAAAATATTGCATGCTCAGGAAGCAAAGTAATTTTGCAATTATACAACTGTTAAAAATGGAAGAATTATGTACTGAGCGCCATTTTCTCTGT']"
      ]
     },
     "execution_count": 7,
     "metadata": {},
     "output_type": "execute_result"
    }
   ],
   "source": [
    "df['scaffolds'][1]"
   ]
  },
  {
   "cell_type": "code",
   "execution_count": 9,
   "id": "4a02a4ba",
   "metadata": {},
   "outputs": [
    {
     "name": "stdout",
     "output_type": "stream",
     "text": [
      "TCCTTTGACATGTGTATATCCTCTTAATTGAAATGTCTCTTCAGGACTTTGGCCTATTTTCTGGATGGGCTATTGGATTTTTTAATGTAGAGTTTTGAGAGTTCTTTATGTATTCTAGATACCAATCCCTTTTTGGATATGTAAATGCAATATTTTCTTCCAGAAAAAGTTTGAAGATTTTAAAAATTGTTTTCTGCTTGCTTTCTCTTTTTCTTGTTCCTCTGTTTTCTTTTCTTTCATCCTTTTGTGCTACTGGAACATATTTTTAAAATTTCATCTTGACTTTGTAAATAATGTTTATCCCTTTGTGTAGGTTTCTTGGTGGTTATTCTGAGTATTACAATATTATTACAATATAAATATATAATTTATCACAGCCTAAACATTCAAGTTTTATGACTTTGAGTGAAGTATTTAGGACTTGCTTCTATTGAGGCTATTTTACCTTCCTGCTTTGTCTTGAAAATTATAATGGACTGATGCTTCCTGGTCCCTTCTCCTGCAGACTGAGATGACATCCTGTGCAGGGGTGATGTCAAGGGGGAGCAGGTTAAGGGAGAGGGGTCTTCTACTTTGCAAGTCCTCACCATGTGGGCGCCCACACACCTCTGCTGGTAGGACTTCCTAGTGATCAGTCCCATCCTAGTTCTGAGGGGCTGGCCCTGGCTAGCAAGTGGGGTGTGCTTGGTGAAGAAGCTGAATGTGGGCTTTGGAGCTGGTCAGATCGGAGCTGGCATCCAGCCTCTGAGAAGTCTCTATCCCCTGATCCCTGGGTTTTTGGGTTTCTCTATCTGTGGAGCCCACTGCCTAGGGCTAAGGTCAAGGATAGAAGAGACAGTGCCTGCTCAATGTAACGCCTGACACACAGTGGGTGCTTTACAAACCCAGGCGGAGCCCAGGACGGAGGGGGCGGGGCACTGTCACTCCCAGCTGGCCTTGAAGAGAGCCCACCCCCGGGAAATCACCTCCAGCAGCTTCACTGCTCACAAGGCGGTTCAGGGCTCTGGTCCCTGTCCTTTCCACGAGAGGGACGTGCAGCTCTGGCCCTGTTCATTGAGCACTTGAACTTGTCACCTCATTTCCAGGATAGCATTCCTACCCTCACAGAGCACCCTGGCCA \n",
      "\n",
      "CCCTGGCTTCTGAAGCGCCCACCAGGGTTCTGGTGGCTTCCCCAGCTCGCGGCCCCTCCGGCCCTGCCGCTTCCCTACACAGCCCTTCCTCCTGCTCGTCATTTTCCGGAGCTCCGTGGGTGTTGGGCACAGACCCACGGCAGCCTCAGCATATGTGGAAGGCTCATGACGCATCCACGCGCGTGTGAAGTGCCGGTGTCTGCAGAGCAGAGGAAGGGGACATCTGTTTGAGTCATTGCCCAACAGCACAGGGCACTCCCATTGCTCTCAGGACCCTT \n",
      "\n"
     ]
    }
   ],
   "source": [
    "for str in df['scaffolds'][1]:\n",
    "    print(str, \"\\n\")"
   ]
  },
  {
   "cell_type": "code",
   "execution_count": 13,
   "id": "73794ea5",
   "metadata": {},
   "outputs": [
    {
     "data": {
      "text/plain": [
       "'TTGACCTTAGCCCTAGGCAGTGGGCTCCACAGATAGAGAAACCCAAAAACCCAGGGATCAGGGGATAGAGACTTCTCAGAGGCTGGATGCCAGCTCCGATCTGACCAGCTCCAAAGCCCACATTCAGCTTCTTCACCAAGCACACCCCACTTGCTAGCCAGGGCCAGCCCCTCAGAACTAGGATGGGACTGATCACTAGGAAGTCCTACCAGCAGAGGTGTGTGGGCGCCCACATGGTGAGGACTTGCAAAGTAGAAGACCCCTCTCCCTTAACCTGCTCCCCCTTGACATCACCCCTGCACAGGATGTCATCTCAGTCTGCAGGAGAAGGGACCAGGAAGCATCAGTCCATGGGCCTGTTTGCCGGCTTTGAGCTGGGGGGCAGCTCTGCCAGGCAGAGGGTGTGAATGGGCTCGGCTCCTGCATGCACTCCCTGCCCTGGCTTCTGAAGCGCCCACCAGGGTTCTGGTGGCTTCCCCAGCTCGCGGCCCCTCCGGCCCTGCCGCTTCCCTACACAGCCCTTCCTCCTGCTCGTCATTTTCCGGAGCTCCGTGGGTGTTGGGCACAGACCCACGGCAGCCTCAGCATATGTGGAAGGCTCATGACGCATCCACGCGCGTGTGAAGTGCCGGTGTCTGCAGAGCAGAGGAAGGGGACATCTGTTTGAGTCATTGCCCAACAGCACAGGGCACTCCCATTGC'"
      ]
     },
     "execution_count": 13,
     "metadata": {},
     "output_type": "execute_result"
    }
   ],
   "source": [
    "df[\"ref_seq_1\"][1].upper()"
   ]
  },
  {
   "cell_type": "code",
   "execution_count": 14,
   "id": "77b2b75c",
   "metadata": {},
   "outputs": [
    {
     "data": {
      "text/plain": [
       "'CCAATCCCTTTTTGGATATGTAAATGCAATATTTTCTTCCAGAAAAAGTTTGAAGATTTTAAAAATTGTTTTCTGCTTGCTTTCTCTTTTTCTTGTTCCTCTGTTTTCTTTTCTTTCATCCTTTTGTGCTACTGGAACATATTTTTAAAATTTCATCTTGACTTTGTAAATAATGTTTATCCCTTTGTGTAGGTTTCTTGGTGGTTATTCTGAGTATTACAATATTATTACAATATAAATATATAACTTATCACAGCCTAAACATTCAAGTTTTATGACTTTGAGTGAAGTATTTAGGACTTGCTTCTATTGAGGCTATTTTACCTTCCTGCTTTGTCTTGAAAATTATAATTTCTTAGACTGCGTTAAAATTTTTATTTCAATCATCACATACATTTTAGATCATGGTATAATTTCTGTTTTAATCACTACATATGATTTAGAAAACCTATGATGAGGATAATCTATGTATTTACCCACAGTTCTGCTCCTTCTGTTGCTGTTTTTTTTTTTCTTCCTGATGTTTCCAGACTTCTTCTTTCACCATTTCCTTTCCTTTTAAAGAATTTTCTGTAACCATTCTTTAAGGATAGATCTGCAATTGACAAATTATTTTACATTCTATTTGTCTGAAAATGTCTTTATTTCTACTTCATTCTTGCTGGATTGTTGTAGCTGATATACAATCCATGGTTGGTAGT'"
      ]
     },
     "execution_count": 14,
     "metadata": {},
     "output_type": "execute_result"
    }
   ],
   "source": [
    "df[\"ref_seq_2\"][1].upper()"
   ]
  },
  {
   "cell_type": "code",
   "execution_count": 20,
   "id": "11efddfc",
   "metadata": {},
   "outputs": [
    {
     "data": {
      "text/plain": [
       "'TCCTTTGACATGTGTATATCCTCTTAATTGAAATGTCTCTTCAGGACTTTGGCCTATTTTCTGGATGGGCTATTGGATTTTTTAATGTAGAGTTTTGAGAGTTCTTTATGTATTCTAGATACCAATCCCTTTTTGGATATGTAAATGCAATATTTTCTTCCAGAAAAAGTTTGAAGATTTTAAAAATTGTTTTCTGCTTGCTTTCTCTTTTTCTTGTTCCTCTGTTTTCTTTTCTTTCATCCTTTTGTGCTACTGGAACATATTTTTAAAATTTCATCTTGACTTTGTAAATAATGTTTATCCCTTTGTGTAGGTTTCTTGGTGGTTATTCTGAGTATTACAATATTATTACAATATAAATATATAATTTATCACAGCCTAAACATTCAAGTTTTATGACTTTGAGTGAAGTATTTAGGACTTGCTTCTATTGAGGCTATTTTACCTTCCTGCTTTGTCTTGAAAATTATAATGGACTGATGCTTCCTGGTCCCTTCTCCTGCAGACTGAGATGACATCCTGTGCAGGGGTGATGTCAAGGGGGAGCAGGTTAAGGGAGAGGGGTCTTCTACTTTGCAAGTCCTCACCATGTGGGCGCCCACACACCTCTGCTGGTAGGACTTCCTAGTGATCAGTCCCATCCTAGTTCTGAGGGGCTGGCCCTGGCTAGCAAGTGGGGTGTGCTTGGTGAAGAAGCTGAATGTGGGCTTTGGAGCTGGTCAGATCGGAGCTGGCATCCAGCCTCTGAGAAGTCTCTATCCCCTGATCCCTGGGTTTTTGGGTTTCTCTATCTGTGGAGCCCACTGCCTAGGGCTAAGGTCAAGGATAGAAGAGACAGTGCCTGCTCAATGTAACGCCTGACACACAGTGGGTGCTTTACAAACCCAGGCGGAGCCCAGGACGGAGGGGGCGGGGCACTGTCACTCCCAGCTGGCCTTGAAGAGAGCCCACCCCCGGGAAATCACCTCCAGCAGCTTCACTGCTCACAAGGCGGTTCAGGGCTCTGGTCCCTGTCCTTTCCACGAGAGGGACGTGCAGCTCTGGCCCTGTTCATTGAGCACTTGAACTTGTCACCTCATTTCCAGGATAGCATTCCTACCCTCACAGAGCACCCTGGCCA'"
      ]
     },
     "execution_count": 20,
     "metadata": {},
     "output_type": "execute_result"
    }
   ],
   "source": [
    "df[\"scaffolds\"][1][0]"
   ]
  },
  {
   "cell_type": "code",
   "execution_count": 31,
   "id": "3400d16b",
   "metadata": {},
   "outputs": [],
   "source": [
    "def rev_comp(dna):\n",
    "    complement = {\"A\": \"T\", \"T\": \"A\", \"C\": \"G\", \"G\": \"C\", \"N\": \"N\"}\n",
    "    reversed_dna = dna[::-1]\n",
    "    return \"\".join(complement[base] for base in reversed_dna)"
   ]
  },
  {
   "cell_type": "code",
   "execution_count": 72,
   "id": "992638f8",
   "metadata": {},
   "outputs": [
    {
     "name": "stdout",
     "output_type": "stream",
     "text": [
      "target           51 CACCTGGCAGTGACAGCTAAATTGGGAGCTGCTGTTAACACCAGGAGCCCAGCAGGCAGT\n",
      "                  0 ||||||||||||||||||||||||||||||||||||||||||||||||||||||||||||\n",
      "query             0 CACCTGGCAGTGACAGCTAAATTGGGAGCTGCTGTTAACACCAGGAGCCCAGCAGGCAGT\n",
      "\n",
      "target          111 CAAACCTGGGTTGGGGGGGAGGGGCACCTGTTGAAAGCACCCACGAGCTCCCAGTGGAGC\n",
      "                 60 ||||||||||||||||||||||||||||||||||||||||||||||||||||||||||||\n",
      "query            60 CAAACCTGGGTTGGGGGGGAGGGGCACCTGTTGAAAGCACCCACGAGCTCCCAGTGGAGC\n",
      "\n",
      "target          171 AGGGAAGGCAGGGAAGGCATGGCGATAGCTGTCAGCAGGAGTGGGTGGGGAGTGGAAGGC\n",
      "                120 ||||||||||||||||||||||||||||||||||||||||||||||||||||||||||||\n",
      "query           120 AGGGAAGGCAGGGAAGGCATGGCGATAGCTGTCAGCAGGAGTGGGTGGGGAGTGGAAGGC\n",
      "\n",
      "target          231 AGGGTGGACCGCCAAACCCACCTTGGGGCCACAGTGAGATGGTCCCTAGGATGCCTTGGC\n",
      "                180 ||||||||||||||||||||||||||||||||||||||||||||||||||||||||||||\n",
      "query           180 AGGGTGGACCGCCAAACCCACCTTGGGGCCACAGTGAGATGGTCCCTAGGATGCCTTGGC\n",
      "\n",
      "target          291 TGGCTAGTGCCCAGCCTTGCTCTTGTAGGAGCTCCCTGGGTCCCTGGGCACCCCAC 347\n",
      "                240 |||||||||||||||||||||||||||||||||||||||||||||||||||||||| 296\n",
      "query           240 TGGCTAGTGCCCAGCCTTGCTCTTGTAGGAGCTCCCTGGGTCCCTGGGCACCCCAC 296\n",
      "\n"
     ]
    }
   ],
   "source": [
    "# breakpoint 8\n",
    "# best_left_scaffold: 2 , score: (30.0, 26.0)\n",
    "# best_right_scaffold: 0 , score: (26.0, 28.0)\n",
    "alignments = aligner.align(df['scaffolds'][8][1], rev_comp(df[\"ref_seq_1\"][8].upper()))\n",
    "for aln in alignments:\n",
    "    print(aln)"
   ]
  },
  {
   "cell_type": "code",
   "execution_count": 69,
   "id": "4f32ac8a",
   "metadata": {},
   "outputs": [
    {
     "name": "stdout",
     "output_type": "stream",
     "text": [
      "target          128 TTACCTCCTTGCTGTGACCTCACATGGTCTTTCCTCCGCCTGCTCATCTCTGGTGTCTGA\n",
      "                  0 ||||||||||||||||||||||||||||||||||||||||||||||||||||||||||||\n",
      "query             0 TTACCTCCTTGCTGTGACCTCACATGGTCTTTCCTCCGCCTGCTCATCTCTGGTGTCTGA\n",
      "\n",
      "target          188 TTTCTGTGTGTGCAAATTTTCTCTTCTAAGGAGAACACCAGTCAGACTGGATAAGAACCC\n",
      "                 60 ||||||||||||||||||||||||||||||||||||||||||||||||||||||||||||\n",
      "query            60 TTTCTGTGTGTGCAAATTTTCTCTTCTAAGGAGAACACCAGTCAGACTGGATAAGAACCC\n",
      "\n",
      "target          248 ACCCTCATGACCTCATTTTCACTTAATCACCTCCATAAAGACCCTGTCTCCAAATTTAGT\n",
      "                120 ||||||||||||||||||||||||||||||||||||||||||||||||||||||||||||\n",
      "query           120 ACCCTCATGACCTCATTTTCACTTAATCACCTCCATAAAGACCCTGTCTCCAAATTTAGT\n",
      "\n",
      "target          308 CACACACTGTGATTAAGGCTTCATTGCATGAATCTTGAGGGACACAATTTAGCCAATAAG\n",
      "                180 ||||||||||||||||||||||||||||||||||||||||||||||||||||||||||||\n",
      "query           180 CACACACTGTGATTAAGGCTTCATTGCATGAATCTTGAGGGACACAATTTAGCCAATAAG\n",
      "\n",
      "target          368 CCTCCACCCTGTGGACTCCAAAGCTTATTTCTTTCTCACTTGTAAAACACATTCACCCCA\n",
      "                240 ||||||||||||||||||||||||||||||||||||||||||||||||||||||||||||\n",
      "query           240 CCTCCACCCTGTGGACTCCAAAGCTTATTTCTTTCTCACTTGTAAAACACATTCACCCCA\n",
      "\n",
      "target          428 TCCCAGTAGCCCAAATCATTAACTAACTCAGCACAAACTCTGAGACCCAAATACCTCCAA\n",
      "                300 ||||||||||||||||||||||||||||||||||||||||||||||||||||||||||||\n",
      "query           300 TCCCAGTAGCCCAAATCATTAACTAACTCAGCACAAACTCTGAGACCCAAATACCTCCAA\n",
      "\n",
      "target          488 ATAAAGTGTGGATGAGACTCCGGGTGTGATTCTTCCTGAGGCATTAAAAAATAACAGCTT\n",
      "                360 ||||||||||||||||||||||||||||||||||||||||||||||||||||||||||||\n",
      "query           360 ATAAAGTGTGGATGAGACTCCGGGTGTGATTCTTCCTGAGGCATTAAAAAATAACAGCTT\n",
      "\n",
      "target          548 TAGGAAAATTTTCCTCCTCTTTCCTGTCATCTGGGTGTTCAAAAAAGTCAAAGCTCCCAC\n",
      "                420 ||||||||||||||||||||||||||||||||||||||||||||||||||||||||||||\n",
      "query           420 TAGGAAAATTTTCCTCCTCTTTCCTGTCATCTGGGTGTTCAAAAAAGTCAAAGCTCCCAC\n",
      "\n",
      "target          608 TTTATTTGCTAAGACTGAAAGAGGCTTTGCTCCTGTTTCCTTCTTTCTCCCTTCCTGAGA\n",
      "                480 ||||||||||||||.|||||||||||||||||||||||||||||||||||||||||||||\n",
      "query           480 TTTATTTGCTAAGATTGAAAGAGGCTTTGCTCCTGTTTCCTTCTTTCTCCCTTCCTGAGA\n",
      "\n",
      "target          668 CTGAGGGGCAGTCACAGCTGCTGGCTGGTGAGCACTTATGGAAAACGCAAATGGGTCAGT\n",
      "                540 ||||||||||||||||||||||||||||.|||||||||||||||||||||||||||||||\n",
      "query           540 CTGAGGGGCAGTCACAGCTGCTGGCTGGCGAGCACTTATGGAAAACGCAAATGGGTCAGT\n",
      "\n",
      "target          728 TGAAAAGATTGGCAGTTGGGCCAAGGTCCCCACAGAGAAGGGATCCCATACCACTTGCTG\n",
      "                600 ||||||||||||||||||||||||||||||||||||||||||||||||||||||||||||\n",
      "query           600 TGAAAAGATTGGCAGTTGGGCCAAGGTCCCCACAGAGAAGGGATCCCATACCACTTGCTG\n",
      "\n",
      "target          788 CTGCGTGCACGTCCAAGAGTCTCCTTTCCCCAAAGAGACTT 829\n",
      "                660 ||||||||||||||||||||||||||||||||||||||||| 701\n",
      "query           660 CTGCGTGCACGTCCAAGAGTCTCCTTTCCCCAAAGAGACTT 701\n",
      "\n"
     ]
    }
   ],
   "source": [
    "# breakpoint 8\n",
    "# best_left_scaffold: 2 , score: (30.0, 26.0)\n",
    "# best_right_scaffold: 0 , score: (26.0, 28.0)\n",
    "alignments = aligner.align(df['scaffolds'][8][0], rev_comp(df[\"ref_seq_2\"][8].upper()))\n",
    "for aln in alignments:\n",
    "    print(aln)"
   ]
  },
  {
   "cell_type": "code",
   "execution_count": null,
   "id": "32555b4f",
   "metadata": {},
   "outputs": [],
   "source": []
  }
 ],
 "metadata": {
  "kernelspec": {
   "display_name": "venv",
   "language": "python",
   "name": "python3"
  },
  "language_info": {
   "codemirror_mode": {
    "name": "ipython",
    "version": 3
   },
   "file_extension": ".py",
   "mimetype": "text/x-python",
   "name": "python",
   "nbconvert_exporter": "python",
   "pygments_lexer": "ipython3",
   "version": "3.13.3"
  }
 },
 "nbformat": 4,
 "nbformat_minor": 5
}
