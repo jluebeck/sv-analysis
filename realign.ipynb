{
 "cells": [
  {
   "cell_type": "code",
   "execution_count": 1,
   "id": "5c612ccd",
   "metadata": {},
   "outputs": [],
   "source": [
    "from Bio import Align\n",
    "from Bio.Seq import Seq\n",
    "from Bio.Align import substitution_matrices\n",
    "import pandas as pd\n",
    "import subprocess\n",
    "import shutil"
   ]
  },
  {
   "cell_type": "code",
   "execution_count": 2,
   "id": "d5ad16f0",
   "metadata": {},
   "outputs": [],
   "source": [
    "def format_alignment(arr, query_start, ori, ref_chr, ref_offset=0):\n",
    "    output = []\n",
    "    seq_len = 0 # Track sequence length\n",
    "\n",
    "    for i in range(0, len(arr), 4):  # Process each set of 3 rows\n",
    "        if i >= len(arr) or arr[i].strip() == \"\":\n",
    "            continue\n",
    "\n",
    "        first_row = arr[i]\n",
    "        seq = first_row.split()[2]  # Extract the sequence part\n",
    "        seq_len = len(seq)\n",
    "        end_number = query_start + seq_len - 1 if ori else query_start - seq_len + 1 # Calculate end number depending on orientation\n",
    "\n",
    "        first_row = f\"ref            {ref_chr}:{query_start} {seq} {end_number}\"\n",
    "\n",
    "        # Align second row\n",
    "        second_row = arr[i+1]\n",
    "        query_sequence_start = first_row.index(seq) - 1\n",
    "        pipes_only = ' ' * query_sequence_start + ''.join([ch if not ch.isdigit() else '' for ch in second_row.strip()])\n",
    "\n",
    "        # Change first number to 1-indexed\n",
    "        third_row = arr[i+2]\n",
    "        ref_start = ref_offset + 1\n",
    "        ref_seq = third_row.split()[2]  # Extract the sequence part from third row\n",
    "        ref_len = len(ref_seq)\n",
    "        ref_end = ref_start + ref_len - 1  # Corrected end number for ref\n",
    "\n",
    "        ref_row = f\"query          {\" \"*len(ref_chr)} {ref_start} {ref_seq} {ref_end}\"\n",
    "\n",
    "        # Since ref row number is always less than query, calculate extra space\n",
    "        space_diff = first_row.index(seq) - ref_row.index(ref_seq)\n",
    "        ref_row = \" \" * space_diff + ref_row.lstrip()\n",
    "\n",
    "        output.append(first_row)\n",
    "        output.append(pipes_only)\n",
    "        output.append(ref_row)\n",
    "        output.append('')\n",
    "\n",
    "        # Update query_start for the next set\n",
    "        query_start = query_start + seq_len if ori else query_start - seq_len\n",
    "\n",
    "        # Update the ref_offset for next set\n",
    "        ref_offset += ref_len\n",
    "\n",
    "    return \"\\n\".join(output)"
   ]
  },
  {
   "cell_type": "code",
   "execution_count": 3,
   "id": "846be501",
   "metadata": {},
   "outputs": [],
   "source": [
    "def extract_region(fasta_file, region):\n",
    "    \"\"\"\n",
    "    Extracts a specific region from a FASTA file using samtools.\n",
    "\n",
    "    :param fasta_file: Path to the indexed FASTA file.\n",
    "    :param region: Region in the format \"chr:start-end\" (e.g., \"chr18:180-280\").\n",
    "    :return: The sequence as a string.\n",
    "    \"\"\"\n",
    "    result = subprocess.run(\n",
    "        [\"samtools\", \"faidx\", fasta_file, region],\n",
    "        stdout=subprocess.PIPE,\n",
    "        stderr=subprocess.PIPE,\n",
    "        text=True\n",
    "    )\n",
    "    if result.returncode == 0:\n",
    "        # The sequence will be in the second line, as the first line contains the header\n",
    "        return ''.join(result.stdout.splitlines()[1:])\n",
    "    else:\n",
    "        raise Exception(f\"Error: {result.stderr.strip()}\")\n",
    "    \n",
    "def generate_scaffolds(fastq1, fastq2, out_dir='out'):\n",
    "    \"\"\"\n",
    "    Extracts a specific region from a FASTA file using samtools.\n",
    "\n",
    "    :param fasta_file: Path to the indexed FASTA file.\n",
    "    :param region: Region in the format \"chr:start-end\" (e.g., \"chr18:180-280\").\n",
    "    :return: The sequence as a string.\n",
    "    \"\"\"\n",
    "\n",
    "    shutil.rmtree('./out')\n",
    "    result = subprocess.run(\n",
    "        [\"python\", \"./SPAdes-4.2.0-Linux/bin/spades.py\", \"--meta\", \"--pe1-1\", f\"./fastq/{fastq1}\", \"--pe1-2\", f\"./fastq/{fastq2}\", \"-o\", out_dir],\n",
    "        stdout=subprocess.PIPE,\n",
    "        stderr=subprocess.PIPE,\n",
    "        text=True\n",
    "    )\n",
    "    # print(result.stdout)\n",
    "    # print(result.stderr)\n",
    "    if result.returncode == 0:\n",
    "        # The sequence will be in the second line, as the first line contains the header\n",
    "        with open(f'./{out_dir}/scaffolds.fasta', 'r') as file:\n",
    "            file_content = file.read()  # Read the entire content of the file into a string\n",
    "            return [''.join(s.split('\\n')[1:]) for s in file_content.split('>')][1:]\n",
    "    else:\n",
    "        raise Exception(f\"{result.stderr}\")"
   ]
  },
  {
   "cell_type": "code",
   "execution_count": 4,
   "id": "4e55c74c",
   "metadata": {},
   "outputs": [],
   "source": [
    "df = pd.read_csv('./K562/K562_summaries.tsv', sep=\"\\t\")\n",
    "# aligner = Align.PairwiseAligner(mode=\"global\", open_gap_score = -10, extend_gap_score = -0.5, match_score = 1.0, mismatch_score = -1.0)\n",
    "aligner = Align.PairwiseAligner(mode=\"local\", open_gap_score = -10, extend_gap_score = -5, match_score=2, mismatch_score=-2)\n",
    "df['ref_seq_1'] = df['chrom1'].str.cat((df['pos1'] - 350).astype(str).str.cat((df['pos1'] + 350).astype(str), sep='-'), sep=':').apply(lambda x: extract_region('hg19/hg19full.fa', x))\n",
    "df['ref_seq_2'] = df['chrom2'].str.cat((df['pos2'] - 350).astype(str).str.cat((df['pos2'] + 350).astype(str), sep='-'), sep=':').apply(lambda x: extract_region('hg19/hg19full.fa', x))\n",
    "fastqs = ([('b_' + df['chrom1'] + '_' + (df['pos1']+1).astype(str) + '_' + df['chrom2'] + '_' + (df['pos2']+1).astype(str) + '_' + str(x) + '.fastq.gz').to_list() for x in range(1, 3)])\n",
    "df['scaffolds'] = [generate_scaffolds(fastqs[0][idx], fastqs[1][idx]) for idx, val in enumerate(fastqs[0])]\n",
    "\n"
   ]
  },
  {
   "cell_type": "code",
   "execution_count": 5,
   "id": "f1f5e625",
   "metadata": {},
   "outputs": [
    {
     "data": {
      "text/plain": [
       "0                                      [(132.0, 700.0)]\n",
       "1                         [(28.0, 48.0), (530.0, 12.0)]\n",
       "2                        [(22.0, 106.0), (700.0, 28.0)]\n",
       "3                        [(120.0, 18.0), (18.0, 224.0)]\n",
       "4                                      [(106.0, 106.0)]\n",
       "5            [(20.0, 22.0), (18.0, 20.0), (18.0, 20.0)]\n",
       "6           [(456.0, 30.0), (18.0, 26.0), (20.0, 24.0)]\n",
       "7           [(30.0, 26.0), (22.0, 248.0), (26.0, 32.0)]\n",
       "8            [(26.0, 28.0), (26.0, 22.0), (30.0, 26.0)]\n",
       "9                                        [(4.0, 294.0)]\n",
       "10         [(226.0, 530.0), (16.0, 20.0), (58.0, 76.0)]\n",
       "11    [(584.0, 124.0), (58.0, 76.0), (66.0, 64.0), (...\n",
       "dtype: object"
      ]
     },
     "execution_count": 5,
     "metadata": {},
     "output_type": "execute_result"
    }
   ],
   "source": [
    "scaffold_alignments = df.apply(lambda row: [(aligner.align(row['ref_seq_1'], scaffold)[0].score, aligner.align(row['ref_seq_2'], scaffold)[0].score) for scaffold in row['scaffolds']], axis=1)\n",
    "scaffold_alignments"
   ]
  },
  {
   "cell_type": "code",
   "execution_count": 6,
   "id": "e033ead3",
   "metadata": {},
   "outputs": [
    {
     "name": "stdout",
     "output_type": "stream",
     "text": [
      "breakpoint 0\n",
      "best_left_scaffold: 0 , score: (132.0, 700.0)\n",
      "best_right_scaffold: 0 , score: (132.0, 700.0)\n",
      "breakpoint 1\n",
      "best_left_scaffold: 1 , score: (530.0, 12.0)\n",
      "best_right_scaffold: 0 , score: (28.0, 48.0)\n",
      "breakpoint 2\n",
      "best_left_scaffold: 1 , score: (700.0, 28.0)\n",
      "best_right_scaffold: 0 , score: (22.0, 106.0)\n",
      "breakpoint 3\n",
      "best_left_scaffold: 0 , score: (120.0, 18.0)\n",
      "best_right_scaffold: 1 , score: (18.0, 224.0)\n",
      "breakpoint 4\n",
      "best_left_scaffold: 0 , score: (106.0, 106.0)\n",
      "best_right_scaffold: 0 , score: (106.0, 106.0)\n",
      "breakpoint 5\n",
      "best_left_scaffold: 0 , score: (20.0, 22.0)\n",
      "best_right_scaffold: 0 , score: (20.0, 22.0)\n",
      "breakpoint 6\n",
      "best_left_scaffold: 0 , score: (456.0, 30.0)\n",
      "best_right_scaffold: 0 , score: (456.0, 30.0)\n",
      "breakpoint 7\n",
      "best_left_scaffold: 0 , score: (30.0, 26.0)\n",
      "best_right_scaffold: 1 , score: (22.0, 248.0)\n",
      "breakpoint 8\n",
      "best_left_scaffold: 2 , score: (30.0, 26.0)\n",
      "best_right_scaffold: 0 , score: (26.0, 28.0)\n",
      "breakpoint 9\n",
      "best_left_scaffold: 0 , score: (4.0, 294.0)\n",
      "best_right_scaffold: 0 , score: (4.0, 294.0)\n",
      "breakpoint 10\n",
      "best_left_scaffold: 0 , score: (226.0, 530.0)\n",
      "best_right_scaffold: 0 , score: (226.0, 530.0)\n",
      "breakpoint 11\n",
      "best_left_scaffold: 0 , score: (584.0, 124.0)\n",
      "best_right_scaffold: 0 , score: (584.0, 124.0)\n"
     ]
    }
   ],
   "source": [
    "for idx, aligns in enumerate(scaffold_alignments):\n",
    "    print(\"breakpoint\", idx)\n",
    "    left_max = max(scaffold_alignments[idx], key=lambda x: x[0])\n",
    "    left_idx_max = scaffold_alignments[idx].index(left_max)\n",
    "    right_max = max(scaffold_alignments[idx], key=lambda x: x[1])\n",
    "    right_idx_max = scaffold_alignments[idx].index(right_max)\n",
    "    print(\"best_left_scaffold:\", left_idx_max, \", score:\", left_max)\n",
    "    print(\"best_right_scaffold:\", right_idx_max, \", score:\", right_max)\n"
   ]
  },
  {
   "cell_type": "code",
   "execution_count": 7,
   "id": "750ec0b6",
   "metadata": {},
   "outputs": [
    {
     "data": {
      "text/plain": [
       "[(584.0, 124.0), (58.0, 76.0), (66.0, 64.0), (58.0, 14.0)]"
      ]
     },
     "execution_count": 7,
     "metadata": {},
     "output_type": "execute_result"
    }
   ],
   "source": [
    "scaffold_alignments[11]"
   ]
  },
  {
   "cell_type": "code",
   "execution_count": 8,
   "id": "3a757c73",
   "metadata": {},
   "outputs": [
    {
     "data": {
      "text/plain": [
       "['TCCTTTGACATGTGTATATCCTCTTAATTGAAATGTCTCTTCAGGACTTTGGCCTATTTTCTGGATGGGCTATTGGATTTTTTAATGTAGAGTTTTGAGAGTTCTTTATGTATTCTAGATACCAATCCCTTTTTGGATATGTAAATGCAATATTTTCTTCCAGAAAAAGTTTGAAGATTTTAAAAATTGTTTTCTGCTTGCTTTCTCTTTTTCTTGTTCCTCTGTTTTCTTTTCTTTCATCCTTTTGTGCTACTGGAACATATTTTTAAAATTTCATCTTGACTTTGTAAATAATGTTTATCCCTTTGTGTAGGTTTCTTGGTGGTTATTCTGAGTATTACAATATTATTACAATATAAATATATAATTTATCACAGCCTAAACATTCAAGTTTTATGACTTTGAGTGAAGTATTTAGGACTTGCTTCTATTGAGGCTATTTTACCTTCCTGCTTTGTCTTGAAAATTATAATGGACTGATGCTTCCTGGTCCCTTCTCCTGCAGACTGAGATGACATCCTGTGCAGGGGTGATGTCAAGGGGGAGCAGGTTAAGGGAGAGGGGTCTTCTACTTTGCAAGTCCTCACCATGTGGGCGCCCACACACCTCTGCTGGTAGGACTTCCTAGTGATCAGTCCCATCCTAGTTCTGAGGGGCTGGCCCTGGCTAGCAAGTGGGGTGTGCTTGGTGAAGAAGCTGAATGTGGGCTTTGGAGCTGGTCAGATCGGAGCTGGCATCCAGCCTCTGAGAAGTCTCTATCCCCTGATCCCTGGGTTTTTGGGTTTCTCTATCTGTGGAGCCCACTGCCTAGGGCTAAGGTCAAGGATAGAAGAGACAGTGCCTGCTCAATGTAACGCCTGACACACAGTGGGTGCTTTACAAACCCAGGCGGAGCCCAGGACGGAGGGGGCGGGGCACTGTCACTCCCAGCTGGCCTTGAAGAGAGCCCACCCCCGGGAAATCACCTCCAGCAGCTTCACTGCTCACAAGGCGGTTCAGGGCTCTGGTCCCTGTCCTTTCCACGAGAGGGACGTGCAGCTCTGGCCCTGTTCATTGAGCACTTGAACTTGTCACCTCATTTCCAGGATAGCATTCCTACCCTCACAGAGCACCCTGGCCA',\n",
       " 'CCCTGGCTTCTGAAGCGCCCACCAGGGTTCTGGTGGCTTCCCCAGCTCGCGGCCCCTCCGGCCCTGCCGCTTCCCTACACAGCCCTTCCTCCTGCTCGTCATTTTCCGGAGCTCCGTGGGTGTTGGGCACAGACCCACGGCAGCCTCAGCATATGTGGAAGGCTCATGACGCATCCACGCGCGTGTGAAGTGCCGGTGTCTGCAGAGCAGAGGAAGGGGACATCTGTTTGAGTCATTGCCCAACAGCACAGGGCACTCCCATTGCTCTCAGGACCCTT']"
      ]
     },
     "execution_count": 8,
     "metadata": {},
     "output_type": "execute_result"
    }
   ],
   "source": [
    "df['scaffolds'][1]"
   ]
  },
  {
   "cell_type": "code",
   "execution_count": 9,
   "id": "4a02a4ba",
   "metadata": {},
   "outputs": [
    {
     "name": "stdout",
     "output_type": "stream",
     "text": [
      "TCCTTTGACATGTGTATATCCTCTTAATTGAAATGTCTCTTCAGGACTTTGGCCTATTTTCTGGATGGGCTATTGGATTTTTTAATGTAGAGTTTTGAGAGTTCTTTATGTATTCTAGATACCAATCCCTTTTTGGATATGTAAATGCAATATTTTCTTCCAGAAAAAGTTTGAAGATTTTAAAAATTGTTTTCTGCTTGCTTTCTCTTTTTCTTGTTCCTCTGTTTTCTTTTCTTTCATCCTTTTGTGCTACTGGAACATATTTTTAAAATTTCATCTTGACTTTGTAAATAATGTTTATCCCTTTGTGTAGGTTTCTTGGTGGTTATTCTGAGTATTACAATATTATTACAATATAAATATATAATTTATCACAGCCTAAACATTCAAGTTTTATGACTTTGAGTGAAGTATTTAGGACTTGCTTCTATTGAGGCTATTTTACCTTCCTGCTTTGTCTTGAAAATTATAATGGACTGATGCTTCCTGGTCCCTTCTCCTGCAGACTGAGATGACATCCTGTGCAGGGGTGATGTCAAGGGGGAGCAGGTTAAGGGAGAGGGGTCTTCTACTTTGCAAGTCCTCACCATGTGGGCGCCCACACACCTCTGCTGGTAGGACTTCCTAGTGATCAGTCCCATCCTAGTTCTGAGGGGCTGGCCCTGGCTAGCAAGTGGGGTGTGCTTGGTGAAGAAGCTGAATGTGGGCTTTGGAGCTGGTCAGATCGGAGCTGGCATCCAGCCTCTGAGAAGTCTCTATCCCCTGATCCCTGGGTTTTTGGGTTTCTCTATCTGTGGAGCCCACTGCCTAGGGCTAAGGTCAAGGATAGAAGAGACAGTGCCTGCTCAATGTAACGCCTGACACACAGTGGGTGCTTTACAAACCCAGGCGGAGCCCAGGACGGAGGGGGCGGGGCACTGTCACTCCCAGCTGGCCTTGAAGAGAGCCCACCCCCGGGAAATCACCTCCAGCAGCTTCACTGCTCACAAGGCGGTTCAGGGCTCTGGTCCCTGTCCTTTCCACGAGAGGGACGTGCAGCTCTGGCCCTGTTCATTGAGCACTTGAACTTGTCACCTCATTTCCAGGATAGCATTCCTACCCTCACAGAGCACCCTGGCCA \n",
      "\n",
      "CCCTGGCTTCTGAAGCGCCCACCAGGGTTCTGGTGGCTTCCCCAGCTCGCGGCCCCTCCGGCCCTGCCGCTTCCCTACACAGCCCTTCCTCCTGCTCGTCATTTTCCGGAGCTCCGTGGGTGTTGGGCACAGACCCACGGCAGCCTCAGCATATGTGGAAGGCTCATGACGCATCCACGCGCGTGTGAAGTGCCGGTGTCTGCAGAGCAGAGGAAGGGGACATCTGTTTGAGTCATTGCCCAACAGCACAGGGCACTCCCATTGCTCTCAGGACCCTT \n",
      "\n"
     ]
    }
   ],
   "source": [
    "for strn in df['scaffolds'][1]:\n",
    "    print(strn, \"\\n\")"
   ]
  },
  {
   "cell_type": "code",
   "execution_count": 10,
   "id": "73794ea5",
   "metadata": {},
   "outputs": [
    {
     "data": {
      "text/plain": [
       "'TTGACCTTAGCCCTAGGCAGTGGGCTCCACAGATAGAGAAACCCAAAAACCCAGGGATCAGGGGATAGAGACTTCTCAGAGGCTGGATGCCAGCTCCGATCTGACCAGCTCCAAAGCCCACATTCAGCTTCTTCACCAAGCACACCCCACTTGCTAGCCAGGGCCAGCCCCTCAGAACTAGGATGGGACTGATCACTAGGAAGTCCTACCAGCAGAGGTGTGTGGGCGCCCACATGGTGAGGACTTGCAAAGTAGAAGACCCCTCTCCCTTAACCTGCTCCCCCTTGACATCACCCCTGCACAGGATGTCATCTCAGTCTGCAGGAGAAGGGACCAGGAAGCATCAGTCCATGGGCCTGTTTGCCGGCTTTGAGCTGGGGGGCAGCTCTGCCAGGCAGAGGGTGTGAATGGGCTCGGCTCCTGCATGCACTCCCTGCCCTGGCTTCTGAAGCGCCCACCAGGGTTCTGGTGGCTTCCCCAGCTCGCGGCCCCTCCGGCCCTGCCGCTTCCCTACACAGCCCTTCCTCCTGCTCGTCATTTTCCGGAGCTCCGTGGGTGTTGGGCACAGACCCACGGCAGCCTCAGCATATGTGGAAGGCTCATGACGCATCCACGCGCGTGTGAAGTGCCGGTGTCTGCAGAGCAGAGGAAGGGGACATCTGTTTGAGTCATTGCCCAACAGCACAGGGCACTCCCATTGC'"
      ]
     },
     "execution_count": 10,
     "metadata": {},
     "output_type": "execute_result"
    }
   ],
   "source": [
    "df[\"ref_seq_1\"][1].upper()"
   ]
  },
  {
   "cell_type": "code",
   "execution_count": 11,
   "id": "77b2b75c",
   "metadata": {},
   "outputs": [
    {
     "data": {
      "text/plain": [
       "'CCAATCCCTTTTTGGATATGTAAATGCAATATTTTCTTCCAGAAAAAGTTTGAAGATTTTAAAAATTGTTTTCTGCTTGCTTTCTCTTTTTCTTGTTCCTCTGTTTTCTTTTCTTTCATCCTTTTGTGCTACTGGAACATATTTTTAAAATTTCATCTTGACTTTGTAAATAATGTTTATCCCTTTGTGTAGGTTTCTTGGTGGTTATTCTGAGTATTACAATATTATTACAATATAAATATATAACTTATCACAGCCTAAACATTCAAGTTTTATGACTTTGAGTGAAGTATTTAGGACTTGCTTCTATTGAGGCTATTTTACCTTCCTGCTTTGTCTTGAAAATTATAATTTCTTAGACTGCGTTAAAATTTTTATTTCAATCATCACATACATTTTAGATCATGGTATAATTTCTGTTTTAATCACTACATATGATTTAGAAAACCTATGATGAGGATAATCTATGTATTTACCCACAGTTCTGCTCCTTCTGTTGCTGTTTTTTTTTTTCTTCCTGATGTTTCCAGACTTCTTCTTTCACCATTTCCTTTCCTTTTAAAGAATTTTCTGTAACCATTCTTTAAGGATAGATCTGCAATTGACAAATTATTTTACATTCTATTTGTCTGAAAATGTCTTTATTTCTACTTCATTCTTGCTGGATTGTTGTAGCTGATATACAATCCATGGTTGGTAGT'"
      ]
     },
     "execution_count": 11,
     "metadata": {},
     "output_type": "execute_result"
    }
   ],
   "source": [
    "df[\"ref_seq_2\"][1].upper()"
   ]
  },
  {
   "cell_type": "code",
   "execution_count": 12,
   "id": "11efddfc",
   "metadata": {},
   "outputs": [
    {
     "data": {
      "text/plain": [
       "'TCCTTTGACATGTGTATATCCTCTTAATTGAAATGTCTCTTCAGGACTTTGGCCTATTTTCTGGATGGGCTATTGGATTTTTTAATGTAGAGTTTTGAGAGTTCTTTATGTATTCTAGATACCAATCCCTTTTTGGATATGTAAATGCAATATTTTCTTCCAGAAAAAGTTTGAAGATTTTAAAAATTGTTTTCTGCTTGCTTTCTCTTTTTCTTGTTCCTCTGTTTTCTTTTCTTTCATCCTTTTGTGCTACTGGAACATATTTTTAAAATTTCATCTTGACTTTGTAAATAATGTTTATCCCTTTGTGTAGGTTTCTTGGTGGTTATTCTGAGTATTACAATATTATTACAATATAAATATATAATTTATCACAGCCTAAACATTCAAGTTTTATGACTTTGAGTGAAGTATTTAGGACTTGCTTCTATTGAGGCTATTTTACCTTCCTGCTTTGTCTTGAAAATTATAATGGACTGATGCTTCCTGGTCCCTTCTCCTGCAGACTGAGATGACATCCTGTGCAGGGGTGATGTCAAGGGGGAGCAGGTTAAGGGAGAGGGGTCTTCTACTTTGCAAGTCCTCACCATGTGGGCGCCCACACACCTCTGCTGGTAGGACTTCCTAGTGATCAGTCCCATCCTAGTTCTGAGGGGCTGGCCCTGGCTAGCAAGTGGGGTGTGCTTGGTGAAGAAGCTGAATGTGGGCTTTGGAGCTGGTCAGATCGGAGCTGGCATCCAGCCTCTGAGAAGTCTCTATCCCCTGATCCCTGGGTTTTTGGGTTTCTCTATCTGTGGAGCCCACTGCCTAGGGCTAAGGTCAAGGATAGAAGAGACAGTGCCTGCTCAATGTAACGCCTGACACACAGTGGGTGCTTTACAAACCCAGGCGGAGCCCAGGACGGAGGGGGCGGGGCACTGTCACTCCCAGCTGGCCTTGAAGAGAGCCCACCCCCGGGAAATCACCTCCAGCAGCTTCACTGCTCACAAGGCGGTTCAGGGCTCTGGTCCCTGTCCTTTCCACGAGAGGGACGTGCAGCTCTGGCCCTGTTCATTGAGCACTTGAACTTGTCACCTCATTTCCAGGATAGCATTCCTACCCTCACAGAGCACCCTGGCCA'"
      ]
     },
     "execution_count": 12,
     "metadata": {},
     "output_type": "execute_result"
    }
   ],
   "source": [
    "df[\"scaffolds\"][1][0]"
   ]
  },
  {
   "cell_type": "code",
   "execution_count": 13,
   "id": "3400d16b",
   "metadata": {},
   "outputs": [],
   "source": [
    "def rev_comp(dna):\n",
    "    complement = {\"A\": \"T\", \"T\": \"A\", \"C\": \"G\", \"G\": \"C\", \"N\": \"N\"}\n",
    "    reversed_dna = dna[::-1]\n",
    "    return \"\".join(complement[base] for base in reversed_dna)"
   ]
  },
  {
   "cell_type": "code",
   "execution_count": 14,
   "id": "992638f8",
   "metadata": {},
   "outputs": [
    {
     "name": "stdout",
     "output_type": "stream",
     "text": [
      "target           51 CACCTGGCAGTGACAGCTAAATTGGGAGCTGCTGTTAACACCAGGAGCCCAGCAGGCAGT\n",
      "                  0 ||||||||||||||||||||||||||||||||||||||||||||||||||||||||||||\n",
      "query             0 CACCTGGCAGTGACAGCTAAATTGGGAGCTGCTGTTAACACCAGGAGCCCAGCAGGCAGT\n",
      "\n",
      "target          111 CAAACCTGGGTTGGGGGGGAGGGGCACCTGTTGAAAGCACCCACGAGCTCCCAGTGGAGC\n",
      "                 60 ||||||||||||||||||||||||||||||||||||||||||||||||||||||||||||\n",
      "query            60 CAAACCTGGGTTGGGGGGGAGGGGCACCTGTTGAAAGCACCCACGAGCTCCCAGTGGAGC\n",
      "\n",
      "target          171 AGGGAAGGCAGGGAAGGCATGGCGATAGCTGTCAGCAGGAGTGGGTGGGGAGTGGAAGGC\n",
      "                120 ||||||||||||||||||||||||||||||||||||||||||||||||||||||||||||\n",
      "query           120 AGGGAAGGCAGGGAAGGCATGGCGATAGCTGTCAGCAGGAGTGGGTGGGGAGTGGAAGGC\n",
      "\n",
      "target          231 AGGGTGGACCGCCAAACCCACCTTGGGGCCACAGTGAGATGGTCCCTAGGATGCCTTGGC\n",
      "                180 ||||||||||||||||||||||||||||||||||||||||||||||||||||||||||||\n",
      "query           180 AGGGTGGACCGCCAAACCCACCTTGGGGCCACAGTGAGATGGTCCCTAGGATGCCTTGGC\n",
      "\n",
      "target          291 TGGCTAGTGCCCAGCCTTGCTCTTGTAGGAGCTCCCTGGGTCCCTGGGCACCCCAC 347\n",
      "                240 |||||||||||||||||||||||||||||||||||||||||||||||||||||||| 296\n",
      "query           240 TGGCTAGTGCCCAGCCTTGCTCTTGTAGGAGCTCCCTGGGTCCCTGGGCACCCCAC 296\n",
      "\n"
     ]
    }
   ],
   "source": [
    "# breakpoint 8\n",
    "# best_left_scaffold: 2 , score: (30.0, 26.0)\n",
    "# best_right_scaffold: 0 , score: (26.0, 28.0)\n",
    "alignments = aligner.align(df['scaffolds'][8][1], rev_comp(df[\"ref_seq_1\"][8].upper()))\n",
    "for aln in alignments:\n",
    "    print(aln)"
   ]
  },
  {
   "cell_type": "code",
   "execution_count": 15,
   "id": "4f32ac8a",
   "metadata": {},
   "outputs": [
    {
     "name": "stdout",
     "output_type": "stream",
     "text": [
      "target          128 TTACCTCCTTGCTGTGACCTCACATGGTCTTTCCTCCGCCTGCTCATCTCTGGTGTCTGA\n",
      "                  0 ||||||||||||||||||||||||||||||||||||||||||||||||||||||||||||\n",
      "query             0 TTACCTCCTTGCTGTGACCTCACATGGTCTTTCCTCCGCCTGCTCATCTCTGGTGTCTGA\n",
      "\n",
      "target          188 TTTCTGTGTGTGCAAATTTTCTCTTCTAAGGAGAACACCAGTCAGACTGGATAAGAACCC\n",
      "                 60 ||||||||||||||||||||||||||||||||||||||||||||||||||||||||||||\n",
      "query            60 TTTCTGTGTGTGCAAATTTTCTCTTCTAAGGAGAACACCAGTCAGACTGGATAAGAACCC\n",
      "\n",
      "target          248 ACCCTCATGACCTCATTTTCACTTAATCACCTCCATAAAGACCCTGTCTCCAAATTTAGT\n",
      "                120 ||||||||||||||||||||||||||||||||||||||||||||||||||||||||||||\n",
      "query           120 ACCCTCATGACCTCATTTTCACTTAATCACCTCCATAAAGACCCTGTCTCCAAATTTAGT\n",
      "\n",
      "target          308 CACACACTGTGATTAAGGCTTCATTGCATGAATCTTGAGGGACACAATTTAGCCAATAAG\n",
      "                180 ||||||||||||||||||||||||||||||||||||||||||||||||||||||||||||\n",
      "query           180 CACACACTGTGATTAAGGCTTCATTGCATGAATCTTGAGGGACACAATTTAGCCAATAAG\n",
      "\n",
      "target          368 CCTCCACCCTGTGGACTCCAAAGCTTATTTCTTTCTCACTTGTAAAACACATTCACCCCA\n",
      "                240 ||||||||||||||||||||||||||||||||||||||||||||||||||||||||||||\n",
      "query           240 CCTCCACCCTGTGGACTCCAAAGCTTATTTCTTTCTCACTTGTAAAACACATTCACCCCA\n",
      "\n",
      "target          428 TCCCAGTAGCCCAAATCATTAACTAACTCAGCACAAACTCTGAGACCCAAATACCTCCAA\n",
      "                300 ||||||||||||||||||||||||||||||||||||||||||||||||||||||||||||\n",
      "query           300 TCCCAGTAGCCCAAATCATTAACTAACTCAGCACAAACTCTGAGACCCAAATACCTCCAA\n",
      "\n",
      "target          488 ATAAAGTGTGGATGAGACTCCGGGTGTGATTCTTCCTGAGGCATTAAAAAATAACAGCTT\n",
      "                360 ||||||||||||||||||||||||||||||||||||||||||||||||||||||||||||\n",
      "query           360 ATAAAGTGTGGATGAGACTCCGGGTGTGATTCTTCCTGAGGCATTAAAAAATAACAGCTT\n",
      "\n",
      "target          548 TAGGAAAATTTTCCTCCTCTTTCCTGTCATCTGGGTGTTCAAAAAAGTCAAAGCTCCCAC\n",
      "                420 ||||||||||||||||||||||||||||||||||||||||||||||||||||||||||||\n",
      "query           420 TAGGAAAATTTTCCTCCTCTTTCCTGTCATCTGGGTGTTCAAAAAAGTCAAAGCTCCCAC\n",
      "\n",
      "target          608 TTTATTTGCTAAGACTGAAAGAGGCTTTGCTCCTGTTTCCTTCTTTCTCCCTTCCTGAGA\n",
      "                480 ||||||||||||||.|||||||||||||||||||||||||||||||||||||||||||||\n",
      "query           480 TTTATTTGCTAAGATTGAAAGAGGCTTTGCTCCTGTTTCCTTCTTTCTCCCTTCCTGAGA\n",
      "\n",
      "target          668 CTGAGGGGCAGTCACAGCTGCTGGCTGGTGAGCACTTATGGAAAACGCAAATGGGTCAGT\n",
      "                540 ||||||||||||||||||||||||||||.|||||||||||||||||||||||||||||||\n",
      "query           540 CTGAGGGGCAGTCACAGCTGCTGGCTGGCGAGCACTTATGGAAAACGCAAATGGGTCAGT\n",
      "\n",
      "target          728 TGAAAAGATTGGCAGTTGGGCCAAGGTCCCCACAGAGAAGGGATCCCATACCACTTGCTG\n",
      "                600 ||||||||||||||||||||||||||||||||||||||||||||||||||||||||||||\n",
      "query           600 TGAAAAGATTGGCAGTTGGGCCAAGGTCCCCACAGAGAAGGGATCCCATACCACTTGCTG\n",
      "\n",
      "target          788 CTGCGTGCACGTCCAAGAGTCTCCTTTCCCCAAAGAGACTT 829\n",
      "                660 ||||||||||||||||||||||||||||||||||||||||| 701\n",
      "query           660 CTGCGTGCACGTCCAAGAGTCTCCTTTCCCCAAAGAGACTT 701\n",
      "\n"
     ]
    }
   ],
   "source": [
    "# breakpoint 8\n",
    "# best_left_scaffold: 2 , score: (30.0, 26.0)\n",
    "# best_right_scaffold: 0 , score: (26.0, 28.0)\n",
    "alignments = aligner.align(df['scaffolds'][8][0], rev_comp(df[\"ref_seq_2\"][8].upper()))\n",
    "for aln in alignments:\n",
    "    print(aln)"
   ]
  },
  {
   "cell_type": "code",
   "execution_count": 16,
   "id": "32555b4f",
   "metadata": {},
   "outputs": [],
   "source": [
    "# Recall, df is # breakpoint rows. Each row contains x scaffolds.\n",
    "# We compute a new column which is a list of the highest score PairwiseAlignment objects for each of x scaffolds.\n",
    "# We take a max of the scores between non-rev comp and rev comp of reference for each scaffold to resolve orientation issues.\n",
    "df[\"alignments_left\"] = df.apply(\n",
    "    lambda row: [\n",
    "        max(\n",
    "            [aligner.align(scaffold, row[\"ref_seq_1\"].upper())[0],\n",
    "             aligner.align(scaffold, rev_comp(row[\"ref_seq_1\"].upper()))[0]],\n",
    "            key=lambda aln: aln.score\n",
    "        )\n",
    "        for scaffold in row[\"scaffolds\"]\n",
    "    ],\n",
    "    axis=1\n",
    ")\n",
    "\n",
    "df[\"alignments_right\"] = df.apply(\n",
    "    lambda row: [\n",
    "        max(\n",
    "            [aligner.align(scaffold, row[\"ref_seq_2\"].upper())[0],\n",
    "             aligner.align(scaffold, rev_comp(row[\"ref_seq_2\"].upper()))[0]],\n",
    "            key=lambda aln: aln.score\n",
    "        )\n",
    "        for scaffold in row[\"scaffolds\"]\n",
    "    ],\n",
    "    axis=1\n",
    ")"
   ]
  },
  {
   "cell_type": "code",
   "execution_count": 67,
   "id": "fe5aa64d",
   "metadata": {},
   "outputs": [],
   "source": [
    "# Reformats formatted PairwiseAlignment lists by adding a custom reference chrom and pos, accounting for orientation\n",
    "def format_alignment(arr, ori, ref_chr, ref_offset=0, query_start=0):\n",
    "    output = []\n",
    "\n",
    "    for i in range(0, len(arr), 4):\n",
    "        if i + 2 >= len(arr) or not arr[i].strip():\n",
    "            continue\n",
    "\n",
    "        # --- parse target ---\n",
    "        _, _, seq, *rest_t = arr[i].split()\n",
    "        seq_len = len(seq)\n",
    "        end_num = query_start + seq_len - 1\n",
    "\n",
    "        # fixed label + start\n",
    "        prefix = f\"{'target':<15}{query_start} \"\n",
    "        prefix_len = len(prefix)\n",
    "\n",
    "        # --- parse ref ---\n",
    "        _, _, ref_seq, *rest_r = arr[i + 2].split()\n",
    "        ref_len   = len(ref_seq)\n",
    "        ref_start = ref_offset + 1\n",
    "        ref_end   = ref_start + ref_len - 1 if ori else ref_start - ref_len + 1\n",
    "        ref_label = f\"{'ref':<15}{ref_chr}:{ref_start} \"\n",
    "        ref_row_str = f\"{ref_label}{ref_seq} {ref_end}\"\n",
    "\n",
    "        # where the ref bases begin\n",
    "        ref_seq_col = ref_row_str.index(ref_seq)\n",
    "\n",
    "        # compute how much to shift the target seq so seq cols match\n",
    "        pad_spaces = ref_seq_col - prefix_len\n",
    "        if pad_spaces < 0:\n",
    "            pad_spaces = 0\n",
    "\n",
    "        # build target line (label stays flush left)\n",
    "        first_row_str = prefix + \" \" * pad_spaces + seq + f\" {end_num}\"\n",
    "\n",
    "        # --- build pipes ---\n",
    "        raw_pipes   = arr[i + 1].strip()\n",
    "        clean_pipes = ''.join(ch for ch in raw_pipes if not ch.isdigit())\n",
    "        # reuse exact same pad that moved the target seq\n",
    "        pipe_line = \" \" * (prefix_len + pad_spaces - 1) + clean_pipes\n",
    "\n",
    "        # --- collect ---\n",
    "        output.append(first_row_str)\n",
    "        output.append(pipe_line)\n",
    "        output.append(ref_row_str)\n",
    "        output.append(\"\")\n",
    "\n",
    "        # advance\n",
    "        query_start += seq_len\n",
    "        ref_offset   += ref_len if ori else -ref_len\n",
    "\n",
    "    return \"\\n\".join(output)\n"
   ]
  },
  {
   "cell_type": "code",
   "execution_count": null,
   "id": "eb5f4e24",
   "metadata": {},
   "outputs": [
    {
     "name": "stdout",
     "output_type": "stream",
     "text": [
      "target         0              ATGGACTGATGCTTCCTGGTCCCTTCTCCTGCAGACTGAGATGACATCCTGTGCAGGGGT 59\n",
      "                              ||||||||||||||||||||||||||||||||||||||||||||||||||||||||||||\n",
      "ref            chr9:134155524 ATGGACTGATGCTTCCTGGTCCCTTCTCCTGCAGACTGAGATGACATCCTGTGCAGGGGT 134155465\n",
      "\n",
      "target         60             GATGTCAAGGGGGAGCAGGTTAAGGGAGAGGGGTCTTCTACTTTGCAAGTCCTCACCATG 119\n",
      "                              ||||||||||||||||||||||||||||||||||||||||||||||||||||||||||||\n",
      "ref            chr9:134155464 GATGTCAAGGGGGAGCAGGTTAAGGGAGAGGGGTCTTCTACTTTGCAAGTCCTCACCATG 134155405\n",
      "\n",
      "target         120            TGGGCGCCCACACACCTCTGCTGGTAGGACTTCCTAGTGATCAGTCCCATCCTAGTTCTG 179\n",
      "                              ||||||||||||||||||||||||||||||||||||||||||||||||||||||||||||\n",
      "ref            chr9:134155404 TGGGCGCCCACACACCTCTGCTGGTAGGACTTCCTAGTGATCAGTCCCATCCTAGTTCTG 134155345\n",
      "\n",
      "target         180            AGGGGCTGGCCCTGGCTAGCAAGTGGGGTGTGCTTGGTGAAGAAGCTGAATGTGGGCTTT 239\n",
      "                              ||||||||||||||||||||||||||||||||||||||||||||||||||||||||||||\n",
      "ref            chr9:134155344 AGGGGCTGGCCCTGGCTAGCAAGTGGGGTGTGCTTGGTGAAGAAGCTGAATGTGGGCTTT 134155285\n",
      "\n",
      "target         240            GGAGCTGGTCAGATCGGAGCTGGCATCCAGCCTCTGAGAAGTCTCTATCCCCTGATCCCT 299\n",
      "                              ||||||||||||||||||||||||||||||||||||||||||||||||||||||||||||\n",
      "ref            chr9:134155284 GGAGCTGGTCAGATCGGAGCTGGCATCCAGCCTCTGAGAAGTCTCTATCCCCTGATCCCT 134155225\n",
      "\n",
      "target         300            GGGTTTTTGGGTTTCTCTATCTGTGGAGCCCACTGCCTAGGGCTAAGGTCAA 351\n",
      "                              |||||||||||||||||||||||||||||||||||||||||||||||||||| \n",
      "ref            chr9:134155224 GGGTTTTTGGGTTTCTCTATCTGTGGAGCCCACTGCCTAGGGCTAAGGTCAA 134155173\n",
      "\n",
      "target         0               CCAATCCCTTTTTGGATATGTAAATGCAATATTTTCTTCCAGAAAAAGTTTGAAGATTTT 59\n",
      "                               ||||||||||||||||||||||||||||||||||||||||||||||||||||||||||||\n",
      "ref            chr13:108661411 CCAATCCCTTTTTGGATATGTAAATGCAATATTTTCTTCCAGAAAAAGTTTGAAGATTTT 108661470\n",
      "\n",
      "target         60              AAAAATTGTTTTCTGCTTGCTTTCTCTTTTTCTTGTTCCTCTGTTTTCTTTTCTTTCATC 119\n",
      "                               ||||||||||||||||||||||||||||||||||||||||||||||||||||||||||||\n",
      "ref            chr13:108661471 AAAAATTGTTTTCTGCTTGCTTTCTCTTTTTCTTGTTCCTCTGTTTTCTTTTCTTTCATC 108661530\n",
      "\n",
      "target         120             CTTTTGTGCTACTGGAACATATTTTTAAAATTTCATCTTGACTTTGTAAATAATGTTTAT 179\n",
      "                               ||||||||||||||||||||||||||||||||||||||||||||||||||||||||||||\n",
      "ref            chr13:108661531 CTTTTGTGCTACTGGAACATATTTTTAAAATTTCATCTTGACTTTGTAAATAATGTTTAT 108661590\n",
      "\n",
      "target         180             CCCTTTGTGTAGGTTTCTTGGTGGTTATTCTGAGTATTACAATATTATTACAATATAAAT 239\n",
      "                               ||||||||||||||||||||||||||||||||||||||||||||||||||||||||||||\n",
      "ref            chr13:108661591 CCCTTTGTGTAGGTTTCTTGGTGGTTATTCTGAGTATTACAATATTATTACAATATAAAT 108661650\n",
      "\n",
      "target         240             ATATAATTTATCACAGCCTAAACATTCAAGTTTTATGACTTTGAGTGAAGTATTTAGGAC 299\n",
      "                               ||||||.|||||||||||||||||||||||||||||||||||||||||||||||||||||\n",
      "ref            chr13:108661651 ATATAACTTATCACAGCCTAAACATTCAAGTTTTATGACTTTGAGTGAAGTATTTAGGAC 108661710\n",
      "\n",
      "target         300             TTGCTTCTATTGAGGCTATTTTACCTTCCTGCTTTGTCTTGAAAATTATAAT 351\n",
      "                               |||||||||||||||||||||||||||||||||||||||||||||||||||| \n",
      "ref            chr13:108661711 TTGCTTCTATTGAGGCTATTTTACCTTCCTGCTTTGTCTTGAAAATTATAAT 108661762\n",
      "\n"
     ]
    }
   ],
   "source": [
    "# format function turns PairwiseAlignment object into string which can be made into list\n",
    "# 2nd breakpoint, first scaffold, assuming left side alignment is chrom1 and pos1\n",
    "print(format_alignment(format(df['alignments_left'][1][0]).split('\\n'), False, df['chrom1'][1], df['pos1'][1]))\n",
    "\n",
    "print(format_alignment(format(df['alignments_right'][1][0]).split('\\n'), True, df['chrom2'][1], df['pos2'][1]))"
   ]
  },
  {
   "cell_type": "code",
   "execution_count": 19,
   "id": "ea5a0c25",
   "metadata": {},
   "outputs": [
    {
     "name": "stdout",
     "output_type": "stream",
     "text": [
      "target          491 GAGTGGGTTTTATCAGCTTCCATACCCAAACAGAAATACCCTTAAGGATTTTCTTCTCTG\n",
      "                  0 ||||||||||||||||||||||||||||||||||||||||||||||||||||||||||||\n",
      "query           351 GAGTGGGTTTTATCAGCTTCCATACCCAAACAGAAATACCCTTAAGGATTTTCTTCTCTG\n",
      "\n",
      "target          551 ATTGCACTAAATCTATAGGTTTCTTTGATCCTAGAAATGAATAATAGAATATAAAGAATT\n",
      "                 60 ||||||||||||||||||||||||||||||||||||||||||||||||||||||||||||\n",
      "query           411 ATTGCACTAAATCTATAGGTTTCTTTGATCCTAGAAATGAATAATAGAATATAAAGAATT\n",
      "\n",
      "target          611 CTTATTGATGAAAGAAAGCTATTTCAGGAAACTTTTTTTTTTCTGTTAATGATAAAGGCT\n",
      "                120 ||||||||||||||||||||||||||||||||||||||||||||||||||||||||||||\n",
      "query           471 CTTATTGATGAAAGAAAGCTATTTCAGGAAACTTTTTTTTTTCTGTTAATGATAAAGGCT\n",
      "\n",
      "target          671 AAATGATTCCTGTCAATTGTTTCAAATTTTCAACTTTCAAAATACCTGCTGCTTCTTTCC\n",
      "                180 ||||||||||||||||||||||||||||||||||||||||||||||||||||||||||||\n",
      "query           531 AAATGATTCCTGTCAATTGTTTCAAATTTTCAACTTTCAAAATACCTGCTGCTTCTTTCC\n",
      "\n",
      "target          731 AATTCACCTTTCTCTATTCTTTTTTTTTTTCCAATTGTATTTTTCTTTGACACTCAGTAC\n",
      "                240 ||||||||||||||||||||||||||||||||||||||||||||||||||||||||||||\n",
      "query           591 AATTCACCTTTCTCTATTCTTTTTTTTTTTCCAATTGTATTTTTCTTTGACACTCAGTAC\n",
      "\n",
      "target          791 TTGTCCCTTGATAGTGGAGACCATGTTTATACATTTTCATGGATCGAACA 841\n",
      "                300 |||||||||||||||||||||||||||||||||||||||||||||||||| 350\n",
      "query           651 TTGTCCCTTGATAGTGGAGACCATGTTTATACATTTTCATGGATCGAACA 701\n",
      "\n"
     ]
    }
   ],
   "source": [
    "print(df['alignments_left'][0][0])"
   ]
  },
  {
   "cell_type": "code",
   "execution_count": null,
   "id": "e0b9898d",
   "metadata": {},
   "outputs": [],
   "source": []
  }
 ],
 "metadata": {
  "kernelspec": {
   "display_name": "venv",
   "language": "python",
   "name": "python3"
  },
  "language_info": {
   "codemirror_mode": {
    "name": "ipython",
    "version": 3
   },
   "file_extension": ".py",
   "mimetype": "text/x-python",
   "name": "python",
   "nbconvert_exporter": "python",
   "pygments_lexer": "ipython3",
   "version": "3.13.3"
  }
 },
 "nbformat": 4,
 "nbformat_minor": 5
}
